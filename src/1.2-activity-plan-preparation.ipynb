{
 "cells": [
  {
   "cell_type": "code",
   "execution_count": 1,
   "metadata": {
    "collapsed": true
   },
   "outputs": [
    {
     "name": "stdout",
     "output_type": "stream",
     "text": [
      "C:\\emobility\n"
     ]
    }
   ],
   "source": [
    "import pandas as pd\n",
    "import folium\n",
    "import geopandas as gpd\n",
    "import numpy as np\n",
    "import warnings\n",
    "warnings.filterwarnings('ignore')\n",
    "\n",
    "%cd C:\\emobility"
   ]
  },
  {
   "cell_type": "markdown",
   "source": [
    "### Convert SySMo's activity_plans to OTP input data format"
   ],
   "metadata": {
    "collapsed": false
   }
  },
  {
   "cell_type": "code",
   "execution_count": 8,
   "outputs": [
    {
     "data": {
      "text/plain": "0.50    10.256676\n0.60    14.195510\n0.75    23.295671\n0.80    28.366098\n0.85    35.375143\n0.90    47.255185\nName: distance, dtype: float64"
     },
     "execution_count": 8,
     "metadata": {},
     "output_type": "execute_result"
    }
   ],
   "source": [
    "df_act = pd.read_csv(f'./dbs/agents/1_activity_plans.csv')\n"
   ],
   "metadata": {
    "collapsed": false
   }
  },
  {
   "cell_type": "code",
   "execution_count": 3,
   "outputs": [],
   "source": [
    "# coordinate system conversion\n",
    "\n",
    "df_act= gpd.GeoDataFrame(df_act, geometry=gpd.points_from_xy(x=df_act.POINT_X, y=df_act.POINT_Y), crs = 'EPSG:3006')\n",
    "df_act = df_act.to_crs(4326)\n",
    "\n",
    "df_act['lat']=df_act['geometry'].apply(lambda p: p.y)\n",
    "df_act['lng']=df_act['geometry'].apply(lambda p: p.x)"
   ],
   "metadata": {
    "collapsed": false
   }
  },
  {
   "cell_type": "code",
   "execution_count": 4,
   "outputs": [],
   "source": [
    "max_trip_number = df_act.groupby([\"person\"])[\"act_id\"].max().reset_index()\n",
    "max_trip_number.rename(columns = {\"act_id\": \"max_trip_number\"}, inplace=True)"
   ],
   "metadata": {
    "collapsed": false
   }
  },
  {
   "cell_type": "code",
   "execution_count": 5,
   "outputs": [],
   "source": [
    "#do pivot table by activity ID's\n",
    "\n",
    "df_act= df_act[[\"person\", \"act_id\", \"deso\", \"act_purpose\", \"lat\", \"lng\"]]\n",
    "\n",
    "df_act = df_act.pivot_table(index='person', columns= 'act_id', values=[ \"lat\", \"lng\", \"deso\", \"act_purpose\"], aggfunc = lambda x: ','.join(str(v) for v in x) )\n",
    "\n",
    "df_act= pd.merge(df_act, max_trip_number, left_index=True, right_on='person', how='left')\n",
    "#df_act.columns"
   ],
   "metadata": {
    "collapsed": false
   }
  },
  {
   "cell_type": "code",
   "execution_count": 6,
   "outputs": [],
   "source": [
    "df_OTP = pd.DataFrame(columns=['person', 'act_id', 'act_purpose', 'lat_o', 'lng_o', 'lat_d', 'lng_d', 'origin', 'destination'])\n",
    "\n",
    "for max_trip in range(2, max(max_trip_number.max_trip_number)+1):\n",
    "    df_something = df_act[df_act.max_trip_number==max_trip]\n",
    "\n",
    "    for trip in range(max_trip):\n",
    "        df_something['act_id']=trip\n",
    "        df_OTP = pd.DataFrame(np.vstack([df_OTP.values, df_something[['person', 'act_id', ('act_purpose',trip+1), ('lat',trip), ('lng',trip), ('lat',trip+1), ('lng',trip+1), ('deso',trip), ('deso',trip+1)]].values]), columns=df_OTP.columns)\n"
   ],
   "metadata": {
    "collapsed": false
   }
  },
  {
   "cell_type": "code",
   "execution_count": 7,
   "outputs": [],
   "source": [
    "df_OTP = df_OTP.rename_axis('MyIdx').sort_values(by = ['person', 'MyIdx'], ascending = [True, True])\n",
    "df_OTP['origin'] = df_OTP['origin'].str[:4].astype(int)\n",
    "df_OTP['destination'] = df_OTP['destination'].str[:4].astype(int)\n",
    "df_OTP[['lat_o', 'lng_o', 'lat_d', 'lng_d']] = df_OTP[['lat_o', 'lng_o', 'lat_d', 'lng_d']].astype(float)\n",
    "\n",
    "#df_OTP.head()"
   ],
   "metadata": {
    "collapsed": false
   }
  },
  {
   "cell_type": "markdown",
   "source": [
    "### calculate an average cycling speed by age,gender and trip purposes for each person"
   ],
   "metadata": {
    "collapsed": false
   }
  },
  {
   "cell_type": "code",
   "execution_count": 8,
   "outputs": [],
   "source": [
    "from avg_speed_calculator import main\n",
    "\n",
    "\n",
    "if __name__ == '__main__':\n",
    "    df_OTP = main(df_OTP)"
   ],
   "metadata": {
    "collapsed": false
   }
  },
  {
   "cell_type": "code",
   "execution_count": 15,
   "outputs": [
    {
     "data": {
      "text/plain": "          person act_id act_purpose      lat_o      lng_o      lat_d  \\\n818627  10203216      1       other  59.088588  12.790460  59.046517   \n818628  10203216      2       other  59.046517  12.722920  59.122988   \n818629  10203216      3        home  59.122988  12.889993  59.043547   \n818630  10203222      0        home  59.045073  12.719389  59.045881   \n818631  10203222      1        work  59.045881  12.706733  59.045073   \n\n            lng_d  origin  destination  Age Gender  cycling_speed  \n818627  12.722920    1785         1492   19   Male      25.338978  \n818628  12.889993    1492         1785   19   Male      25.338978  \n818629  12.703662    1785         1492   19   Male      25.338978  \n818630  12.706733    1492         1492   29   Male      16.856775  \n818631  12.719389    1492         1492   29   Male      18.762358  ",
      "text/html": "<div>\n<style scoped>\n    .dataframe tbody tr th:only-of-type {\n        vertical-align: middle;\n    }\n\n    .dataframe tbody tr th {\n        vertical-align: top;\n    }\n\n    .dataframe thead th {\n        text-align: right;\n    }\n</style>\n<table border=\"1\" class=\"dataframe\">\n  <thead>\n    <tr style=\"text-align: right;\">\n      <th></th>\n      <th>person</th>\n      <th>act_id</th>\n      <th>act_purpose</th>\n      <th>lat_o</th>\n      <th>lng_o</th>\n      <th>lat_d</th>\n      <th>lng_d</th>\n      <th>origin</th>\n      <th>destination</th>\n      <th>Age</th>\n      <th>Gender</th>\n      <th>cycling_speed</th>\n    </tr>\n  </thead>\n  <tbody>\n    <tr>\n      <th>818627</th>\n      <td>10203216</td>\n      <td>1</td>\n      <td>other</td>\n      <td>59.088588</td>\n      <td>12.790460</td>\n      <td>59.046517</td>\n      <td>12.722920</td>\n      <td>1785</td>\n      <td>1492</td>\n      <td>19</td>\n      <td>Male</td>\n      <td>25.338978</td>\n    </tr>\n    <tr>\n      <th>818628</th>\n      <td>10203216</td>\n      <td>2</td>\n      <td>other</td>\n      <td>59.046517</td>\n      <td>12.722920</td>\n      <td>59.122988</td>\n      <td>12.889993</td>\n      <td>1492</td>\n      <td>1785</td>\n      <td>19</td>\n      <td>Male</td>\n      <td>25.338978</td>\n    </tr>\n    <tr>\n      <th>818629</th>\n      <td>10203216</td>\n      <td>3</td>\n      <td>home</td>\n      <td>59.122988</td>\n      <td>12.889993</td>\n      <td>59.043547</td>\n      <td>12.703662</td>\n      <td>1785</td>\n      <td>1492</td>\n      <td>19</td>\n      <td>Male</td>\n      <td>25.338978</td>\n    </tr>\n    <tr>\n      <th>818630</th>\n      <td>10203222</td>\n      <td>0</td>\n      <td>home</td>\n      <td>59.045073</td>\n      <td>12.719389</td>\n      <td>59.045881</td>\n      <td>12.706733</td>\n      <td>1492</td>\n      <td>1492</td>\n      <td>29</td>\n      <td>Male</td>\n      <td>16.856775</td>\n    </tr>\n    <tr>\n      <th>818631</th>\n      <td>10203222</td>\n      <td>1</td>\n      <td>work</td>\n      <td>59.045881</td>\n      <td>12.706733</td>\n      <td>59.045073</td>\n      <td>12.719389</td>\n      <td>1492</td>\n      <td>1492</td>\n      <td>29</td>\n      <td>Male</td>\n      <td>18.762358</td>\n    </tr>\n  </tbody>\n</table>\n</div>"
     },
     "execution_count": 15,
     "metadata": {},
     "output_type": "execute_result"
    }
   ],
   "source": [
    "df_OTP.tail()"
   ],
   "metadata": {
    "collapsed": false
   }
  },
  {
   "cell_type": "markdown",
   "source": [
    "### divede the data for multiprocess routing and save"
   ],
   "metadata": {
    "collapsed": false
   }
  },
  {
   "cell_type": "code",
   "execution_count": 17,
   "outputs": [],
   "source": [
    "# divide the data to 30 parts\n",
    "splits = np.array_split(df_OTP.person, 30)\n",
    "df_OTP['part'] = 0\n"
   ],
   "metadata": {
    "collapsed": false
   }
  },
  {
   "cell_type": "code",
   "execution_count": 18,
   "outputs": [
    {
     "name": "stdout",
     "output_type": "stream",
     "text": [
      "1\n",
      "2\n",
      "3\n",
      "4\n",
      "5\n",
      "6\n",
      "7\n",
      "8\n",
      "9\n",
      "10\n",
      "11\n",
      "12\n",
      "13\n",
      "14\n",
      "15\n",
      "16\n",
      "17\n",
      "18\n",
      "19\n",
      "20\n",
      "21\n",
      "22\n",
      "23\n",
      "24\n",
      "25\n",
      "26\n",
      "27\n",
      "28\n",
      "29\n",
      "30\n"
     ]
    }
   ],
   "source": [
    "count=0\n",
    "for split in range(30):\n",
    "    df_OTP['part'][df_OTP.person.isin(splits[split])]=count\n",
    "    count+=1\n",
    "    print(count)\n",
    "\n",
    "# save the data\n",
    "df_OTP.to_csv(f'./dbs/agents/od_pairs_vg.csv', index=False)"
   ],
   "metadata": {
    "collapsed": false
   }
  },
  {
   "cell_type": "markdown",
   "source": [],
   "metadata": {
    "collapsed": false
   }
  }
 ],
 "metadata": {
  "kernelspec": {
   "display_name": "Python 3",
   "language": "python",
   "name": "python3"
  },
  "language_info": {
   "codemirror_mode": {
    "name": "ipython",
    "version": 2
   },
   "file_extension": ".py",
   "mimetype": "text/x-python",
   "name": "python",
   "nbconvert_exporter": "python",
   "pygments_lexer": "ipython2",
   "version": "2.7.6"
  }
 },
 "nbformat": 4,
 "nbformat_minor": 0
}
