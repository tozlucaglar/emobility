{
 "cells": [
  {
   "cell_type": "code",
   "execution_count": 1,
   "metadata": {
    "collapsed": true
   },
   "outputs": [
    {
     "name": "stdout",
     "output_type": "stream",
     "text": [
      "C:\\emobility\n"
     ]
    }
   ],
   "source": [
    "import numpy as np\n",
    "import pandas as pd\n",
    "import os, sys\n",
    "import warnings\n",
    "from tqdm import tqdm\n",
    "\n",
    "warnings.filterwarnings('ignore')\n",
    "\n",
    "\n",
    "%cd C:\\emobility"
   ]
  },
  {
   "cell_type": "markdown",
   "source": [
    "## Car assignment"
   ],
   "metadata": {
    "collapsed": false
   }
  },
  {
   "cell_type": "code",
   "execution_count": 47,
   "outputs": [],
   "source": [
    "df_act = pd.read_csv(f'./dbs/agents/1_activity_plans.csv')\n",
    "\n",
    "\n",
    "emission_factor = pd.read_csv(f'./dbs/emission/EmissionFactor.csv', delimiter=\";\")\n",
    "PHEV = emission_factor[(emission_factor['carType']== 'Car_PHEV_bensin') | (emission_factor['carType']== 'Car_PHEV_diesel')].mean(axis=0)\n",
    "emission_factor = emission_factor.append( PHEV, ignore_index=True ).drop([4, 5], axis=0)\n",
    "emission_factor.iloc[5,0] = 'Car_PHEV'\n",
    "emission_factor.replace(['Car_gasoline','Car_diesel','Car_ethanol','Car_gas','Car_el ','Car_PHEV'],[0,1,4,5,2,3], inplace=True)\n",
    "\n",
    "\n",
    "\n",
    "\n",
    "car_distribution = pd.read_csv(f'./dbs/emission/CarDistribution.csv', delimiter=\";\")\n",
    "car_distribution.loc[:,['Gasoline', 'Diesel', 'El', 'PHEV', 'Ethanol', 'Gas']] = car_distribution.loc[:,['Gasoline', 'Diesel', 'El', 'PHEV', 'Ethanol', 'Gas']].div(car_distribution['Total'], axis=0)\n",
    "\n",
    "car_distribution = car_distribution.drop(['Total'], axis=1)\n",
    "\n"
   ],
   "metadata": {
    "collapsed": false
   }
  },
  {
   "cell_type": "code",
   "execution_count": 3,
   "outputs": [],
   "source": [
    "def carType_assignment(row, car_distribution):\n",
    "    if row['deso'][:2] == '14':\n",
    "        prob = car_distribution[['Gasoline', 'Diesel', 'El', 'PHEV', 'Ethanol', 'Gas']][car_distribution.Kod==int(row['deso'][:4])].values.tolist()\n",
    "        pred = np.random.multinomial(1, prob[0], 1)\n",
    "        carType = pred[0].tolist().index(1)\n",
    "    else:\n",
    "        # for those not in VG, use VG general distribution\n",
    "        prob = [0.579957, 0.354470, 0.003693, 0.006844, 0.043670, 0.011365]\n",
    "        pred = np.random.multinomial(1, prob, 1)\n",
    "        carType = pred[0].tolist().index(1)\n",
    "\n",
    "    return carType\n",
    "\n",
    "\n"
   ],
   "metadata": {
    "collapsed": false
   }
  },
  {
   "cell_type": "code",
   "execution_count": 5,
   "outputs": [],
   "source": [
    "#df_act = pd.merge(df_act, df_act_car_segments[[\"person\", \"carType\"]], left_on= \"person\", right_on=\"person\", how=\"left\")"
   ],
   "metadata": {
    "collapsed": false
   }
  },
  {
   "cell_type": "code",
   "execution_count": 4,
   "outputs": [],
   "source": [
    "df_act_car_segments = df_act.drop_duplicates(subset=['person'])\n",
    "\n",
    "df_act_car_segments['carType'] = 100\n",
    "\n",
    "df_act_car_segments['carType'] = df_act_car_segments.apply( lambda row: carType_assignment(row, car_distribution), axis=1)"
   ],
   "metadata": {
    "collapsed": false
   }
  },
  {
   "cell_type": "code",
   "execution_count": 6,
   "outputs": [
    {
     "data": {
      "text/plain": "0    0.581296\n1    0.353562\n4    0.043068\n5    0.011484\n3    0.006796\n2    0.003794\nName: carType, dtype: float64"
     },
     "execution_count": 6,
     "metadata": {},
     "output_type": "execute_result"
    }
   ],
   "source": [
    "print('car distribution by fuel type at the aggregated level')\n",
    "df_act_car_segments.carType.value_counts(normalize=True)"
   ],
   "metadata": {
    "collapsed": false
   }
  },
  {
   "cell_type": "code",
   "execution_count": 6,
   "outputs": [],
   "source": [],
   "metadata": {
    "collapsed": false
   }
  },
  {
   "cell_type": "markdown",
   "source": [
    "## Emission calculation\n",
    "### the road network classification by the population density in DeSO where the road link passes"
   ],
   "metadata": {
    "collapsed": false
   }
  },
  {
   "cell_type": "markdown",
   "source": [],
   "metadata": {
    "collapsed": false
   }
  },
  {
   "cell_type": "code",
   "execution_count": 96,
   "outputs": [],
   "source": [
    "import geopandas as gpd\n",
    "\n",
    "#A DeSO in category A is rural areas. B is mostly located in a suburban areas. C is mostly located in the municipality's central location.\n",
    "# read the road network and DeSO zones\n",
    "\n",
    "road_network1 = gpd.read_file(f'./dbs/emission/road/5_road_network_with_slope.shp')\n",
    "\n",
    "road_network = road_network[['link_id','geometry']]\n",
    "road_network = road_network.reset_index()\n",
    "\n",
    "DeSO = gpd.read_file(f'./dbs/emission/deso_statistik_shp/Fordon_region.shp')\n",
    "DeSO = DeSO[['Deso','geometry']]\n",
    "DeSO['deso_category'] = DeSO['Deso'].str[4]\n",
    "\n",
    "\n",
    "DeSO = DeSO.to_crs(road_network.crs)"
   ],
   "metadata": {
    "collapsed": false
   }
  },
  {
   "cell_type": "code",
   "execution_count": 97,
   "outputs": [],
   "source": [
    "from spatial_operations import spatial_join\n",
    "\n",
    "\n",
    "if __name__ == '__main__':\n",
    "    road_network = spatial_join(road_network, DeSO)\n",
    "\n",
    "# the links crossing multiple DeSO are duplicated in the spatial join process.\n",
    "# the link id is no unique, and it crosses multiple DeSO zones when it be combined"
   ],
   "metadata": {
    "collapsed": false
   }
  },
  {
   "cell_type": "code",
   "execution_count": 105,
   "outputs": [],
   "source": [
    "\n",
    "# road_network_zonecross= road_network[road_network.duplicated(subset=['index'], keep=False)]\n",
    "#\n",
    "#\n",
    "# road_network_zonecross_mix = road_network_zonecross.groupby(['index']).agg({'deso_category': ' '.join}).reset_index()"
   ],
   "metadata": {
    "collapsed": false
   }
  },
  {
   "cell_type": "code",
   "execution_count": 122,
   "outputs": [],
   "source": [
    "# road_network_zonecross_mix.deso_category.value_counts()\n"
   ],
   "metadata": {
    "collapsed": false
   }
  },
  {
   "cell_type": "code",
   "execution_count": 106,
   "outputs": [],
   "source": [
    "\n",
    "# road_network_zonecross_mix = road_network_zonecross_mix[(road_network_zonecross_mix.deso_category==\"C A\")|(road_network_zonecross_mix.deso_category==\"A C\")]\n",
    "#\n",
    "#\n",
    "#\n",
    "# road_network = road_network.drop_duplicates(subset=['index'])\n",
    "#\n",
    "# road_network['deso_category'][road_network['index'].isin(list(road_network_zonecross_mix['index']))]='M'\n"
   ],
   "metadata": {
    "collapsed": false
   }
  },
  {
   "cell_type": "code",
   "execution_count": 9,
   "outputs": [],
   "source": [],
   "metadata": {
    "collapsed": false
   }
  },
  {
   "cell_type": "code",
   "execution_count": 115,
   "outputs": [],
   "source": [
    "road_network_Noduplicate = road_network.copy()\n",
    "\n",
    "road_network_Noduplicate['deso_category'] = road_network_Noduplicate['deso_category'].fillna('M')\n"
   ],
   "metadata": {
    "collapsed": false
   }
  },
  {
   "cell_type": "code",
   "execution_count": 116,
   "outputs": [],
   "source": [
    "road_network_Noduplicate = road_network_Noduplicate.groupby(['link_id']).agg({'deso_category': ' '.join}).reset_index()"
   ],
   "metadata": {
    "collapsed": false
   }
  },
  {
   "cell_type": "code",
   "execution_count": 121,
   "outputs": [],
   "source": [
    "#road_network_Noduplicate.deso_category.value_counts()\n"
   ],
   "metadata": {
    "collapsed": false
   }
  },
  {
   "cell_type": "code",
   "execution_count": 118,
   "outputs": [],
   "source": [
    "def deso_categories(row):\n",
    "    if len(row['deso_category'])==1:\n",
    "        deso_category = row['deso_category']\n",
    "    elif 'M' in row['deso_category']:\n",
    "        deso_category = 'M'\n",
    "    else:\n",
    "        deso_category = \"\".join(set(row['deso_category']))\n",
    "        if (len(deso_category)>1) & (\"C\" in deso_category) :\n",
    "            deso_category = 'M'\n",
    "        elif (len(deso_category)>1) :\n",
    "            deso_category = 'B'\n",
    "        #elif: (len(deso_category)>1) & (\"A\" in deso_category)  :\n",
    "            #deso_category = 'B'\n",
    "\n",
    "    return deso_category"
   ],
   "metadata": {
    "collapsed": false
   }
  },
  {
   "cell_type": "code",
   "execution_count": 104,
   "outputs": [],
   "source": [
    "# def deso_categories(row):\n",
    "#     if len(row['deso_category'])==1:\n",
    "#         deso_category = row['deso_category']\n",
    "#     elif 'M' in row['deso_category']:\n",
    "#         deso_category = 'M'\n",
    "#     else:\n",
    "#         deso_category = \"\".join(set(row['deso_category']))\n",
    "#         if (len(deso_category)>1) & (\"C\" in deso_category) :\n",
    "#             deso_category = 'M'\n",
    "#         elif len(deso_category)>1  :\n",
    "#             deso_category = 'B'\n",
    "#\n",
    "#     return deso_category\n"
   ],
   "metadata": {
    "collapsed": false
   }
  },
  {
   "cell_type": "code",
   "execution_count": 119,
   "outputs": [],
   "source": [
    "road_network_Noduplicate['deso_category'] = road_network_Noduplicate.apply( lambda row: deso_categories(row), axis=1)"
   ],
   "metadata": {
    "collapsed": false
   }
  },
  {
   "cell_type": "code",
   "execution_count": 120,
   "outputs": [
    {
     "data": {
      "text/plain": "C    0.455306\nA    0.325817\nB    0.200384\nM    0.018493\nName: deso_category, dtype: float64"
     },
     "execution_count": 120,
     "metadata": {},
     "output_type": "execute_result"
    }
   ],
   "source": [
    "#road_network_Noduplicate= pd.merge(road_network_Noduplicate, road_network[[\"link_id\", \"Deso\"]], left_on= \"link_id\", right_on=\"link_id\", how=\"left\")\n",
    "road_network_Noduplicate['deso_category'].value_counts(normalize=True)"
   ],
   "metadata": {
    "collapsed": false
   }
  },
  {
   "cell_type": "code",
   "execution_count": 134,
   "outputs": [],
   "source": [
    "#road_network_Noduplicate = road_network_Noduplicate.groupby(['link_id']).agg({'deso_category': ' '.join}).reset_index()\n",
    "# road_network_Deso = road_network.copy()\n",
    "# road_network_Deso['Deso'] = road_network_Deso['Deso'].fillna('M')\n",
    "# road_network_Deso = road_network_Deso.groupby(['link_id']).agg({'Deso': ' '.join}).reset_index()"
   ],
   "metadata": {
    "collapsed": false
   }
  },
  {
   "cell_type": "code",
   "execution_count": 137,
   "outputs": [],
   "source": [
    "road_network_Deso = road_network.copy()\n",
    "road_network_Deso['Deso'] = road_network_Deso['Deso'].fillna('M')\n",
    "road_network_Deso = road_network_Deso.groupby('link_id')['Deso'].apply(list).reset_index()\n"
   ],
   "metadata": {
    "collapsed": false
   }
  },
  {
   "cell_type": "code",
   "execution_count": 140,
   "outputs": [
    {
     "data": {
      "text/plain": "3"
     },
     "execution_count": 140,
     "metadata": {},
     "output_type": "execute_result"
    }
   ],
   "source": [
    "#len(road_network_Deso['Deso'].iloc[43])"
   ],
   "metadata": {
    "collapsed": false
   }
  },
  {
   "cell_type": "markdown",
   "source": [
    "### car movement trajectories on the road network"
   ],
   "metadata": {
    "collapsed": false
   }
  },
  {
   "cell_type": "markdown",
   "source": [],
   "metadata": {
    "collapsed": false
   }
  },
  {
   "cell_type": "code",
   "execution_count": 15,
   "outputs": [],
   "source": [
    "df_act_car_tra = pd.read_csv(f'./dbs/emission/paraset0.csv', delimiter=\",\")\n"
   ],
   "metadata": {
    "collapsed": false
   }
  },
  {
   "cell_type": "code",
   "execution_count": 16,
   "outputs": [],
   "source": [
    "df_act_car_tra.sort_values([\"person\", \"seq\"], inplace=True)"
   ],
   "metadata": {
    "collapsed": false
   }
  },
  {
   "cell_type": "code",
   "execution_count": 17,
   "outputs": [],
   "source": [
    "df_act_car_tra = pd.merge(df_act_car_tra[['person', 'seq', 'time', 'purpose', 'type', 'link', 'distance_driven']], road_network_Noduplicate[['link_id', 'deso_category']], left_on= \"link\", right_on=\"link_id\", how=\"left\")"
   ],
   "metadata": {
    "collapsed": false
   }
  },
  {
   "cell_type": "code",
   "execution_count": null,
   "outputs": [],
   "source": [
    "df_act_car_tra = pd.merge(df_act_car_tra, road_network_Deso, left_on= \"link\", right_on=\"link_id\", how=\"left\")"
   ],
   "metadata": {
    "collapsed": false
   }
  },
  {
   "cell_type": "code",
   "execution_count": 18,
   "outputs": [],
   "source": [
    "#aaa = df_act_car_tra.head(10000)\n"
   ],
   "metadata": {
    "collapsed": false
   }
  },
  {
   "cell_type": "code",
   "execution_count": 19,
   "outputs": [
    {
     "data": {
      "text/plain": "          person   seq     time purpose                    type  \\\n6955294  1971397     0  37122.0     NaN  vehicle enters traffic   \n6955295  1971397     1  37123.0     NaN               left link   \n6955296  1971397     2  37126.0     NaN               left link   \n6955297  1971397     3  37134.0     NaN               left link   \n6955298  1971397     4  37139.0     NaN               left link   \n...          ...   ...      ...     ...                     ...   \n6956516  1971397  1222  71969.0     NaN               left link   \n6956517  1971397  1223  71976.0     NaN               left link   \n6956518  1971397  1224  71979.0     NaN               left link   \n6956519  1971397  1225  72007.0     NaN               left link   \n6956520  1971397  1226  72034.0     NaN  vehicle leaves traffic   \n\n                   link  distance_driven         link_id deso_category  \n6955294  1342685760006f         0.000000  1342685760006f             C  \n6955295  1342685760006f         0.000000  1342685760006f             C  \n6955296  7935409950004f         0.020595  7935409950004f             C  \n6955297  1053434250005f         0.094950  1053434250005f             C  \n6955298  1342686220020f         0.113064  1342686220020f             C  \n...                 ...              ...             ...           ...  \n6956516  1342686220010f       470.036766  1342686220010f             C  \n6956517  5473078170005f       470.104721  5473078170005f             C  \n6956518  7935409940002f       470.120087  7935409940002f             C  \n6956519  1342685760006r       470.326020  1342685760006r             C  \n6956520  1342685760006f       470.326020  1342685760006f             C  \n\n[1227 rows x 9 columns]",
      "text/html": "<div>\n<style scoped>\n    .dataframe tbody tr th:only-of-type {\n        vertical-align: middle;\n    }\n\n    .dataframe tbody tr th {\n        vertical-align: top;\n    }\n\n    .dataframe thead th {\n        text-align: right;\n    }\n</style>\n<table border=\"1\" class=\"dataframe\">\n  <thead>\n    <tr style=\"text-align: right;\">\n      <th></th>\n      <th>person</th>\n      <th>seq</th>\n      <th>time</th>\n      <th>purpose</th>\n      <th>type</th>\n      <th>link</th>\n      <th>distance_driven</th>\n      <th>link_id</th>\n      <th>deso_category</th>\n    </tr>\n  </thead>\n  <tbody>\n    <tr>\n      <th>6955294</th>\n      <td>1971397</td>\n      <td>0</td>\n      <td>37122.0</td>\n      <td>NaN</td>\n      <td>vehicle enters traffic</td>\n      <td>1342685760006f</td>\n      <td>0.000000</td>\n      <td>1342685760006f</td>\n      <td>C</td>\n    </tr>\n    <tr>\n      <th>6955295</th>\n      <td>1971397</td>\n      <td>1</td>\n      <td>37123.0</td>\n      <td>NaN</td>\n      <td>left link</td>\n      <td>1342685760006f</td>\n      <td>0.000000</td>\n      <td>1342685760006f</td>\n      <td>C</td>\n    </tr>\n    <tr>\n      <th>6955296</th>\n      <td>1971397</td>\n      <td>2</td>\n      <td>37126.0</td>\n      <td>NaN</td>\n      <td>left link</td>\n      <td>7935409950004f</td>\n      <td>0.020595</td>\n      <td>7935409950004f</td>\n      <td>C</td>\n    </tr>\n    <tr>\n      <th>6955297</th>\n      <td>1971397</td>\n      <td>3</td>\n      <td>37134.0</td>\n      <td>NaN</td>\n      <td>left link</td>\n      <td>1053434250005f</td>\n      <td>0.094950</td>\n      <td>1053434250005f</td>\n      <td>C</td>\n    </tr>\n    <tr>\n      <th>6955298</th>\n      <td>1971397</td>\n      <td>4</td>\n      <td>37139.0</td>\n      <td>NaN</td>\n      <td>left link</td>\n      <td>1342686220020f</td>\n      <td>0.113064</td>\n      <td>1342686220020f</td>\n      <td>C</td>\n    </tr>\n    <tr>\n      <th>...</th>\n      <td>...</td>\n      <td>...</td>\n      <td>...</td>\n      <td>...</td>\n      <td>...</td>\n      <td>...</td>\n      <td>...</td>\n      <td>...</td>\n      <td>...</td>\n    </tr>\n    <tr>\n      <th>6956516</th>\n      <td>1971397</td>\n      <td>1222</td>\n      <td>71969.0</td>\n      <td>NaN</td>\n      <td>left link</td>\n      <td>1342686220010f</td>\n      <td>470.036766</td>\n      <td>1342686220010f</td>\n      <td>C</td>\n    </tr>\n    <tr>\n      <th>6956517</th>\n      <td>1971397</td>\n      <td>1223</td>\n      <td>71976.0</td>\n      <td>NaN</td>\n      <td>left link</td>\n      <td>5473078170005f</td>\n      <td>470.104721</td>\n      <td>5473078170005f</td>\n      <td>C</td>\n    </tr>\n    <tr>\n      <th>6956518</th>\n      <td>1971397</td>\n      <td>1224</td>\n      <td>71979.0</td>\n      <td>NaN</td>\n      <td>left link</td>\n      <td>7935409940002f</td>\n      <td>470.120087</td>\n      <td>7935409940002f</td>\n      <td>C</td>\n    </tr>\n    <tr>\n      <th>6956519</th>\n      <td>1971397</td>\n      <td>1225</td>\n      <td>72007.0</td>\n      <td>NaN</td>\n      <td>left link</td>\n      <td>1342685760006r</td>\n      <td>470.326020</td>\n      <td>1342685760006r</td>\n      <td>C</td>\n    </tr>\n    <tr>\n      <th>6956520</th>\n      <td>1971397</td>\n      <td>1226</td>\n      <td>72034.0</td>\n      <td>NaN</td>\n      <td>vehicle leaves traffic</td>\n      <td>1342685760006f</td>\n      <td>470.326020</td>\n      <td>1342685760006f</td>\n      <td>C</td>\n    </tr>\n  </tbody>\n</table>\n<p>1227 rows × 9 columns</p>\n</div>"
     },
     "execution_count": 19,
     "metadata": {},
     "output_type": "execute_result"
    }
   ],
   "source": [
    "#df_act_car_tra[df_act_car_tra.person==1971397]\n"
   ],
   "metadata": {
    "collapsed": false
   }
  },
  {
   "cell_type": "code",
   "execution_count": 20,
   "outputs": [],
   "source": [
    "df_act_car_tra['distance_driven_shift'] = df_act_car_tra['distance_driven'].shift(-1)\n",
    "df_act_car_tra['person_shift'] = df_act_car_tra['person'].shift(-1).fillna(0).astype('int')\n",
    "\n",
    "df_act_car_tra['link_distance']=0"
   ],
   "metadata": {
    "collapsed": false
   }
  },
  {
   "cell_type": "code",
   "execution_count": 21,
   "outputs": [],
   "source": [
    "df_act_car_tra['link_distance'] = df_act_car_tra.apply( lambda row: row['distance_driven_shift']-row['distance_driven'] if row['person'] == row['person_shift'] else 0, axis=1)"
   ],
   "metadata": {
    "collapsed": false
   }
  },
  {
   "cell_type": "code",
   "execution_count": 22,
   "outputs": [],
   "source": [
    "# According to link distance (I have checked in Arcmap), shift rows.\n",
    "df_act_car_tra['link_distance'] = df_act_car_tra['link_distance'].shift(1).fillna(0)"
   ],
   "metadata": {
    "collapsed": false
   }
  },
  {
   "cell_type": "markdown",
   "source": [
    "### activity purpose deduction"
   ],
   "metadata": {
    "collapsed": false
   }
  },
  {
   "cell_type": "code",
   "execution_count": 23,
   "outputs": [],
   "source": [
    "df_OTP = pd.read_csv(f'./dbs/agents/od_pairs_vg.csv')\n",
    "\n",
    "df_OTP_last_activity = df_OTP.drop_duplicates(subset=['person'], keep='last')\n"
   ],
   "metadata": {
    "collapsed": false
   }
  },
  {
   "cell_type": "code",
   "execution_count": 24,
   "outputs": [
    {
     "data": {
      "text/plain": "          person  act_id act_purpose      lat_o      lng_o      lat_d  \\\n809881  10002928       0        work  57.757010  12.053026  57.728697   \n809882  10002928       1       other  57.728697  11.996491  57.719952   \n809883  10002928       2        work  57.719952  11.998955  57.728697   \n809884  10002928       3        home  57.728697  11.996491  57.757010   \n\n            lng_d  origin  destination  Age Gender  cycling_speed  part  \n809881  11.996491    1480         1480   51   Male      19.655208    29  \n809882  11.998955    1480         1480   51   Male      17.658943    29  \n809883  11.996491    1480         1480   51   Male      19.655208    29  \n809884  12.053026    1480         1480   51   Male      17.658943    29  ",
      "text/html": "<div>\n<style scoped>\n    .dataframe tbody tr th:only-of-type {\n        vertical-align: middle;\n    }\n\n    .dataframe tbody tr th {\n        vertical-align: top;\n    }\n\n    .dataframe thead th {\n        text-align: right;\n    }\n</style>\n<table border=\"1\" class=\"dataframe\">\n  <thead>\n    <tr style=\"text-align: right;\">\n      <th></th>\n      <th>person</th>\n      <th>act_id</th>\n      <th>act_purpose</th>\n      <th>lat_o</th>\n      <th>lng_o</th>\n      <th>lat_d</th>\n      <th>lng_d</th>\n      <th>origin</th>\n      <th>destination</th>\n      <th>Age</th>\n      <th>Gender</th>\n      <th>cycling_speed</th>\n      <th>part</th>\n    </tr>\n  </thead>\n  <tbody>\n    <tr>\n      <th>809881</th>\n      <td>10002928</td>\n      <td>0</td>\n      <td>work</td>\n      <td>57.757010</td>\n      <td>12.053026</td>\n      <td>57.728697</td>\n      <td>11.996491</td>\n      <td>1480</td>\n      <td>1480</td>\n      <td>51</td>\n      <td>Male</td>\n      <td>19.655208</td>\n      <td>29</td>\n    </tr>\n    <tr>\n      <th>809882</th>\n      <td>10002928</td>\n      <td>1</td>\n      <td>other</td>\n      <td>57.728697</td>\n      <td>11.996491</td>\n      <td>57.719952</td>\n      <td>11.998955</td>\n      <td>1480</td>\n      <td>1480</td>\n      <td>51</td>\n      <td>Male</td>\n      <td>17.658943</td>\n      <td>29</td>\n    </tr>\n    <tr>\n      <th>809883</th>\n      <td>10002928</td>\n      <td>2</td>\n      <td>work</td>\n      <td>57.719952</td>\n      <td>11.998955</td>\n      <td>57.728697</td>\n      <td>11.996491</td>\n      <td>1480</td>\n      <td>1480</td>\n      <td>51</td>\n      <td>Male</td>\n      <td>19.655208</td>\n      <td>29</td>\n    </tr>\n    <tr>\n      <th>809884</th>\n      <td>10002928</td>\n      <td>3</td>\n      <td>home</td>\n      <td>57.728697</td>\n      <td>11.996491</td>\n      <td>57.757010</td>\n      <td>12.053026</td>\n      <td>1480</td>\n      <td>1480</td>\n      <td>51</td>\n      <td>Male</td>\n      <td>17.658943</td>\n      <td>29</td>\n    </tr>\n  </tbody>\n</table>\n</div>"
     },
     "execution_count": 24,
     "metadata": {},
     "output_type": "execute_result"
    }
   ],
   "source": [
    "#df_OTP[df_OTP.person==10002928]\n"
   ],
   "metadata": {
    "collapsed": false
   }
  },
  {
   "cell_type": "code",
   "execution_count": 25,
   "outputs": [],
   "source": [
    "df_act_last_activity = df_act_car_tra[df_act_car_tra.type == 'vehicle leaves traffic']\n",
    "\n",
    "df_act_last_activity = df_act_last_activity.drop_duplicates(subset=['person','type'], keep='last')"
   ],
   "metadata": {
    "collapsed": false
   }
  },
  {
   "cell_type": "code",
   "execution_count": 26,
   "outputs": [],
   "source": [
    "df_act_last_activity = pd.merge(df_act_last_activity[['person','seq']], df_OTP_last_activity[[\"person\", \"act_purpose\"]], left_on= \"person\", right_on=\"person\", how=\"left\")\n"
   ],
   "metadata": {
    "collapsed": false
   }
  },
  {
   "cell_type": "code",
   "execution_count": 27,
   "outputs": [],
   "source": [
    "df_act_car_tra = pd.merge(df_act_car_tra, df_act_last_activity, on= [\"person\",'seq'], how=\"left\")"
   ],
   "metadata": {
    "collapsed": false
   }
  },
  {
   "cell_type": "code",
   "execution_count": 28,
   "outputs": [],
   "source": [
    "df_act_car_tra['purpose'] = np.where(pd.isna(df_act_car_tra.purpose), df_act_car_tra['act_purpose'], df_act_car_tra['purpose'])"
   ],
   "metadata": {
    "collapsed": false
   }
  },
  {
   "cell_type": "code",
   "execution_count": 29,
   "outputs": [],
   "source": [
    "df_act_car_tra.sort_values([\"person\", \"seq\"], inplace=True)"
   ],
   "metadata": {
    "collapsed": false
   }
  },
  {
   "cell_type": "code",
   "execution_count": 30,
   "outputs": [],
   "source": [
    "df_act_car_tra['purpose'].bfill(axis ='rows', inplace=True)\n"
   ],
   "metadata": {
    "collapsed": false
   }
  },
  {
   "cell_type": "code",
   "execution_count": 31,
   "outputs": [],
   "source": [
    "df_act_car_tra.drop(['person_shift', 'distance_driven_shift','act_purpose', 'link_id'], inplace=True, axis=1)"
   ],
   "metadata": {
    "collapsed": false
   }
  },
  {
   "cell_type": "markdown",
   "source": [
    "here"
   ],
   "metadata": {
    "collapsed": false
   }
  },
  {
   "cell_type": "code",
   "execution_count": 61,
   "outputs": [],
   "source": [
    "#bbb = pd.merge(df_OTP, aaa, left_on= [\"person\",'act_id'], right_on=[\"person\",'act_id'], how=\"left\")"
   ],
   "metadata": {
    "collapsed": false
   }
  },
  {
   "cell_type": "code",
   "execution_count": 74,
   "outputs": [
    {
     "data": {
      "text/plain": "         person  act_id       deso      POINT_X       POINT_Y act_purpose  \\\n312714  2208394       0  1481C1110  324980.6320  6.388701e+06        home   \n312715  2208394       1  1481C1140  321921.7193  6.391209e+06       other   \n312716  2208394       2  1481C1110  324980.6320  6.388701e+06        home   \n312717  2208394       3  1481C1070  324452.0205  6.385596e+06       other   \n312718  2208394       4  1481C1300  321317.6230  6.394844e+06       other   \n312719  2208394       5  1481C1110  324980.6320  6.388701e+06        home   \n\n       mode   dep_time trav_time  trav_time_min      speed   distance  \\\n312714  NaN   0.000000  00:00:00       0.000000        NaN   0.000000   \n312715   pt  10.888611  00:17:20      17.333333  17.798488   5.141786   \n312716   pt  11.914444  00:17:23      17.383333  17.747294   5.141786   \n312717  car  13.775278  00:12:52      12.866667  31.272415   6.706196   \n312718  car  14.863611  01:06:54      66.900000  11.449286  12.765954   \n312719  car  16.169722  00:43:51      43.850000  12.706528   9.286354   \n\n        act_start    act_time    act_end      score  \n312714          0  653.316667  10.888611  45.413392  \n312715        671   44.216667  11.914444  45.413392  \n312716        732   94.266667  13.775278  45.413392  \n312717        839   52.433333  14.863611  45.413392  \n312718        959   11.466667  16.169722  45.413392  \n312719       1014  425.950000  23.999722  45.413392  ",
      "text/html": "<div>\n<style scoped>\n    .dataframe tbody tr th:only-of-type {\n        vertical-align: middle;\n    }\n\n    .dataframe tbody tr th {\n        vertical-align: top;\n    }\n\n    .dataframe thead th {\n        text-align: right;\n    }\n</style>\n<table border=\"1\" class=\"dataframe\">\n  <thead>\n    <tr style=\"text-align: right;\">\n      <th></th>\n      <th>person</th>\n      <th>act_id</th>\n      <th>deso</th>\n      <th>POINT_X</th>\n      <th>POINT_Y</th>\n      <th>act_purpose</th>\n      <th>mode</th>\n      <th>dep_time</th>\n      <th>trav_time</th>\n      <th>trav_time_min</th>\n      <th>speed</th>\n      <th>distance</th>\n      <th>act_start</th>\n      <th>act_time</th>\n      <th>act_end</th>\n      <th>score</th>\n    </tr>\n  </thead>\n  <tbody>\n    <tr>\n      <th>312714</th>\n      <td>2208394</td>\n      <td>0</td>\n      <td>1481C1110</td>\n      <td>324980.6320</td>\n      <td>6.388701e+06</td>\n      <td>home</td>\n      <td>NaN</td>\n      <td>0.000000</td>\n      <td>00:00:00</td>\n      <td>0.000000</td>\n      <td>NaN</td>\n      <td>0.000000</td>\n      <td>0</td>\n      <td>653.316667</td>\n      <td>10.888611</td>\n      <td>45.413392</td>\n    </tr>\n    <tr>\n      <th>312715</th>\n      <td>2208394</td>\n      <td>1</td>\n      <td>1481C1140</td>\n      <td>321921.7193</td>\n      <td>6.391209e+06</td>\n      <td>other</td>\n      <td>pt</td>\n      <td>10.888611</td>\n      <td>00:17:20</td>\n      <td>17.333333</td>\n      <td>17.798488</td>\n      <td>5.141786</td>\n      <td>671</td>\n      <td>44.216667</td>\n      <td>11.914444</td>\n      <td>45.413392</td>\n    </tr>\n    <tr>\n      <th>312716</th>\n      <td>2208394</td>\n      <td>2</td>\n      <td>1481C1110</td>\n      <td>324980.6320</td>\n      <td>6.388701e+06</td>\n      <td>home</td>\n      <td>pt</td>\n      <td>11.914444</td>\n      <td>00:17:23</td>\n      <td>17.383333</td>\n      <td>17.747294</td>\n      <td>5.141786</td>\n      <td>732</td>\n      <td>94.266667</td>\n      <td>13.775278</td>\n      <td>45.413392</td>\n    </tr>\n    <tr>\n      <th>312717</th>\n      <td>2208394</td>\n      <td>3</td>\n      <td>1481C1070</td>\n      <td>324452.0205</td>\n      <td>6.385596e+06</td>\n      <td>other</td>\n      <td>car</td>\n      <td>13.775278</td>\n      <td>00:12:52</td>\n      <td>12.866667</td>\n      <td>31.272415</td>\n      <td>6.706196</td>\n      <td>839</td>\n      <td>52.433333</td>\n      <td>14.863611</td>\n      <td>45.413392</td>\n    </tr>\n    <tr>\n      <th>312718</th>\n      <td>2208394</td>\n      <td>4</td>\n      <td>1481C1300</td>\n      <td>321317.6230</td>\n      <td>6.394844e+06</td>\n      <td>other</td>\n      <td>car</td>\n      <td>14.863611</td>\n      <td>01:06:54</td>\n      <td>66.900000</td>\n      <td>11.449286</td>\n      <td>12.765954</td>\n      <td>959</td>\n      <td>11.466667</td>\n      <td>16.169722</td>\n      <td>45.413392</td>\n    </tr>\n    <tr>\n      <th>312719</th>\n      <td>2208394</td>\n      <td>5</td>\n      <td>1481C1110</td>\n      <td>324980.6320</td>\n      <td>6.388701e+06</td>\n      <td>home</td>\n      <td>car</td>\n      <td>16.169722</td>\n      <td>00:43:51</td>\n      <td>43.850000</td>\n      <td>12.706528</td>\n      <td>9.286354</td>\n      <td>1014</td>\n      <td>425.950000</td>\n      <td>23.999722</td>\n      <td>45.413392</td>\n    </tr>\n  </tbody>\n</table>\n</div>"
     },
     "execution_count": 74,
     "metadata": {},
     "output_type": "execute_result"
    }
   ],
   "source": [
    "#df_act[df_act.person==2208394]"
   ],
   "metadata": {
    "collapsed": false
   }
  },
  {
   "cell_type": "code",
   "execution_count": 86,
   "outputs": [],
   "source": [
    "#df_act_car_tra[df_act_car_tra.person==2208394]"
   ],
   "metadata": {
    "collapsed": false
   }
  },
  {
   "cell_type": "markdown",
   "source": [
    "here"
   ],
   "metadata": {
    "collapsed": false
   }
  },
  {
   "cell_type": "markdown",
   "source": [
    "### assign activity IDs"
   ],
   "metadata": {
    "collapsed": false
   }
  },
  {
   "cell_type": "code",
   "execution_count": 76,
   "outputs": [
    {
     "ename": "IntCastingNaNError",
     "evalue": "Cannot convert non-finite values (NA or inf) to integer",
     "output_type": "error",
     "traceback": [
      "\u001B[1;31m---------------------------------------------------------------------------\u001B[0m",
      "\u001B[1;31mIntCastingNaNError\u001B[0m                        Traceback (most recent call last)",
      "\u001B[1;32m<ipython-input-76-81fbff8241c5>\u001B[0m in \u001B[0;36m<module>\u001B[1;34m\u001B[0m\n\u001B[0;32m      4\u001B[0m \u001B[0mdf_act_car_tra\u001B[0m \u001B[1;33m=\u001B[0m \u001B[0mpd\u001B[0m\u001B[1;33m.\u001B[0m\u001B[0mmerge\u001B[0m\u001B[1;33m(\u001B[0m\u001B[0mdf_act_car_tra\u001B[0m\u001B[1;33m,\u001B[0m \u001B[0maaa\u001B[0m\u001B[1;33m[\u001B[0m\u001B[1;33m[\u001B[0m\u001B[1;34m'act_id'\u001B[0m\u001B[1;33m]\u001B[0m\u001B[1;33m]\u001B[0m\u001B[1;33m,\u001B[0m \u001B[0mleft_index\u001B[0m\u001B[1;33m=\u001B[0m\u001B[1;32mTrue\u001B[0m\u001B[1;33m,\u001B[0m \u001B[0mright_index\u001B[0m\u001B[1;33m=\u001B[0m\u001B[1;32mTrue\u001B[0m\u001B[1;33m,\u001B[0m \u001B[0mhow\u001B[0m\u001B[1;33m=\u001B[0m\u001B[1;34m\"left\"\u001B[0m\u001B[1;33m)\u001B[0m\u001B[1;33m\u001B[0m\u001B[1;33m\u001B[0m\u001B[0m\n\u001B[0;32m      5\u001B[0m \u001B[1;33m\u001B[0m\u001B[0m\n\u001B[1;32m----> 6\u001B[1;33m \u001B[0mdf_act_car_tra\u001B[0m\u001B[1;33m[\u001B[0m\u001B[1;34m'act_id'\u001B[0m\u001B[1;33m]\u001B[0m \u001B[1;33m=\u001B[0m \u001B[0mdf_act_car_tra\u001B[0m\u001B[1;33m[\u001B[0m\u001B[1;34m'act_id'\u001B[0m\u001B[1;33m]\u001B[0m\u001B[1;33m.\u001B[0m\u001B[0mastype\u001B[0m\u001B[1;33m(\u001B[0m\u001B[1;34m'int'\u001B[0m\u001B[1;33m)\u001B[0m\u001B[1;33m\u001B[0m\u001B[1;33m\u001B[0m\u001B[0m\n\u001B[0m\u001B[0;32m      7\u001B[0m \u001B[1;33m\u001B[0m\u001B[0m\n",
      "\u001B[1;32m~\\AppData\\Local\\anaconda3\\envs\\pycharm\\lib\\site-packages\\pandas\\core\\generic.py\u001B[0m in \u001B[0;36mastype\u001B[1;34m(self, dtype, copy, errors)\u001B[0m\n\u001B[0;32m   5813\u001B[0m         \u001B[1;32melse\u001B[0m\u001B[1;33m:\u001B[0m\u001B[1;33m\u001B[0m\u001B[1;33m\u001B[0m\u001B[0m\n\u001B[0;32m   5814\u001B[0m             \u001B[1;31m# else, only a single dtype is given\u001B[0m\u001B[1;33m\u001B[0m\u001B[1;33m\u001B[0m\u001B[1;33m\u001B[0m\u001B[0m\n\u001B[1;32m-> 5815\u001B[1;33m             \u001B[0mnew_data\u001B[0m \u001B[1;33m=\u001B[0m \u001B[0mself\u001B[0m\u001B[1;33m.\u001B[0m\u001B[0m_mgr\u001B[0m\u001B[1;33m.\u001B[0m\u001B[0mastype\u001B[0m\u001B[1;33m(\u001B[0m\u001B[0mdtype\u001B[0m\u001B[1;33m=\u001B[0m\u001B[0mdtype\u001B[0m\u001B[1;33m,\u001B[0m \u001B[0mcopy\u001B[0m\u001B[1;33m=\u001B[0m\u001B[0mcopy\u001B[0m\u001B[1;33m,\u001B[0m \u001B[0merrors\u001B[0m\u001B[1;33m=\u001B[0m\u001B[0merrors\u001B[0m\u001B[1;33m)\u001B[0m\u001B[1;33m\u001B[0m\u001B[1;33m\u001B[0m\u001B[0m\n\u001B[0m\u001B[0;32m   5816\u001B[0m             \u001B[1;32mreturn\u001B[0m \u001B[0mself\u001B[0m\u001B[1;33m.\u001B[0m\u001B[0m_constructor\u001B[0m\u001B[1;33m(\u001B[0m\u001B[0mnew_data\u001B[0m\u001B[1;33m)\u001B[0m\u001B[1;33m.\u001B[0m\u001B[0m__finalize__\u001B[0m\u001B[1;33m(\u001B[0m\u001B[0mself\u001B[0m\u001B[1;33m,\u001B[0m \u001B[0mmethod\u001B[0m\u001B[1;33m=\u001B[0m\u001B[1;34m\"astype\"\u001B[0m\u001B[1;33m)\u001B[0m\u001B[1;33m\u001B[0m\u001B[1;33m\u001B[0m\u001B[0m\n\u001B[0;32m   5817\u001B[0m \u001B[1;33m\u001B[0m\u001B[0m\n",
      "\u001B[1;32m~\\AppData\\Local\\anaconda3\\envs\\pycharm\\lib\\site-packages\\pandas\\core\\internals\\managers.py\u001B[0m in \u001B[0;36mastype\u001B[1;34m(self, dtype, copy, errors)\u001B[0m\n\u001B[0;32m    416\u001B[0m \u001B[1;33m\u001B[0m\u001B[0m\n\u001B[0;32m    417\u001B[0m     \u001B[1;32mdef\u001B[0m \u001B[0mastype\u001B[0m\u001B[1;33m(\u001B[0m\u001B[0mself\u001B[0m\u001B[1;33m:\u001B[0m \u001B[0mT\u001B[0m\u001B[1;33m,\u001B[0m \u001B[0mdtype\u001B[0m\u001B[1;33m,\u001B[0m \u001B[0mcopy\u001B[0m\u001B[1;33m:\u001B[0m \u001B[0mbool\u001B[0m \u001B[1;33m=\u001B[0m \u001B[1;32mFalse\u001B[0m\u001B[1;33m,\u001B[0m \u001B[0merrors\u001B[0m\u001B[1;33m:\u001B[0m \u001B[0mstr\u001B[0m \u001B[1;33m=\u001B[0m \u001B[1;34m\"raise\"\u001B[0m\u001B[1;33m)\u001B[0m \u001B[1;33m->\u001B[0m \u001B[0mT\u001B[0m\u001B[1;33m:\u001B[0m\u001B[1;33m\u001B[0m\u001B[1;33m\u001B[0m\u001B[0m\n\u001B[1;32m--> 418\u001B[1;33m         \u001B[1;32mreturn\u001B[0m \u001B[0mself\u001B[0m\u001B[1;33m.\u001B[0m\u001B[0mapply\u001B[0m\u001B[1;33m(\u001B[0m\u001B[1;34m\"astype\"\u001B[0m\u001B[1;33m,\u001B[0m \u001B[0mdtype\u001B[0m\u001B[1;33m=\u001B[0m\u001B[0mdtype\u001B[0m\u001B[1;33m,\u001B[0m \u001B[0mcopy\u001B[0m\u001B[1;33m=\u001B[0m\u001B[0mcopy\u001B[0m\u001B[1;33m,\u001B[0m \u001B[0merrors\u001B[0m\u001B[1;33m=\u001B[0m\u001B[0merrors\u001B[0m\u001B[1;33m)\u001B[0m\u001B[1;33m\u001B[0m\u001B[1;33m\u001B[0m\u001B[0m\n\u001B[0m\u001B[0;32m    419\u001B[0m \u001B[1;33m\u001B[0m\u001B[0m\n\u001B[0;32m    420\u001B[0m     def convert(\n",
      "\u001B[1;32m~\\AppData\\Local\\anaconda3\\envs\\pycharm\\lib\\site-packages\\pandas\\core\\internals\\managers.py\u001B[0m in \u001B[0;36mapply\u001B[1;34m(self, f, align_keys, ignore_failures, **kwargs)\u001B[0m\n\u001B[0;32m    325\u001B[0m                     \u001B[0mapplied\u001B[0m \u001B[1;33m=\u001B[0m \u001B[0mb\u001B[0m\u001B[1;33m.\u001B[0m\u001B[0mapply\u001B[0m\u001B[1;33m(\u001B[0m\u001B[0mf\u001B[0m\u001B[1;33m,\u001B[0m \u001B[1;33m**\u001B[0m\u001B[0mkwargs\u001B[0m\u001B[1;33m)\u001B[0m\u001B[1;33m\u001B[0m\u001B[1;33m\u001B[0m\u001B[0m\n\u001B[0;32m    326\u001B[0m                 \u001B[1;32melse\u001B[0m\u001B[1;33m:\u001B[0m\u001B[1;33m\u001B[0m\u001B[1;33m\u001B[0m\u001B[0m\n\u001B[1;32m--> 327\u001B[1;33m                     \u001B[0mapplied\u001B[0m \u001B[1;33m=\u001B[0m \u001B[0mgetattr\u001B[0m\u001B[1;33m(\u001B[0m\u001B[0mb\u001B[0m\u001B[1;33m,\u001B[0m \u001B[0mf\u001B[0m\u001B[1;33m)\u001B[0m\u001B[1;33m(\u001B[0m\u001B[1;33m**\u001B[0m\u001B[0mkwargs\u001B[0m\u001B[1;33m)\u001B[0m\u001B[1;33m\u001B[0m\u001B[1;33m\u001B[0m\u001B[0m\n\u001B[0m\u001B[0;32m    328\u001B[0m             \u001B[1;32mexcept\u001B[0m \u001B[1;33m(\u001B[0m\u001B[0mTypeError\u001B[0m\u001B[1;33m,\u001B[0m \u001B[0mNotImplementedError\u001B[0m\u001B[1;33m)\u001B[0m\u001B[1;33m:\u001B[0m\u001B[1;33m\u001B[0m\u001B[1;33m\u001B[0m\u001B[0m\n\u001B[0;32m    329\u001B[0m                 \u001B[1;32mif\u001B[0m \u001B[1;32mnot\u001B[0m \u001B[0mignore_failures\u001B[0m\u001B[1;33m:\u001B[0m\u001B[1;33m\u001B[0m\u001B[1;33m\u001B[0m\u001B[0m\n",
      "\u001B[1;32m~\\AppData\\Local\\anaconda3\\envs\\pycharm\\lib\\site-packages\\pandas\\core\\internals\\blocks.py\u001B[0m in \u001B[0;36mastype\u001B[1;34m(self, dtype, copy, errors)\u001B[0m\n\u001B[0;32m    589\u001B[0m         \u001B[0mvalues\u001B[0m \u001B[1;33m=\u001B[0m \u001B[0mself\u001B[0m\u001B[1;33m.\u001B[0m\u001B[0mvalues\u001B[0m\u001B[1;33m\u001B[0m\u001B[1;33m\u001B[0m\u001B[0m\n\u001B[0;32m    590\u001B[0m \u001B[1;33m\u001B[0m\u001B[0m\n\u001B[1;32m--> 591\u001B[1;33m         \u001B[0mnew_values\u001B[0m \u001B[1;33m=\u001B[0m \u001B[0mastype_array_safe\u001B[0m\u001B[1;33m(\u001B[0m\u001B[0mvalues\u001B[0m\u001B[1;33m,\u001B[0m \u001B[0mdtype\u001B[0m\u001B[1;33m,\u001B[0m \u001B[0mcopy\u001B[0m\u001B[1;33m=\u001B[0m\u001B[0mcopy\u001B[0m\u001B[1;33m,\u001B[0m \u001B[0merrors\u001B[0m\u001B[1;33m=\u001B[0m\u001B[0merrors\u001B[0m\u001B[1;33m)\u001B[0m\u001B[1;33m\u001B[0m\u001B[1;33m\u001B[0m\u001B[0m\n\u001B[0m\u001B[0;32m    592\u001B[0m \u001B[1;33m\u001B[0m\u001B[0m\n\u001B[0;32m    593\u001B[0m         \u001B[0mnew_values\u001B[0m \u001B[1;33m=\u001B[0m \u001B[0mmaybe_coerce_values\u001B[0m\u001B[1;33m(\u001B[0m\u001B[0mnew_values\u001B[0m\u001B[1;33m)\u001B[0m\u001B[1;33m\u001B[0m\u001B[1;33m\u001B[0m\u001B[0m\n",
      "\u001B[1;32m~\\AppData\\Local\\anaconda3\\envs\\pycharm\\lib\\site-packages\\pandas\\core\\dtypes\\cast.py\u001B[0m in \u001B[0;36mastype_array_safe\u001B[1;34m(values, dtype, copy, errors)\u001B[0m\n\u001B[0;32m   1307\u001B[0m \u001B[1;33m\u001B[0m\u001B[0m\n\u001B[0;32m   1308\u001B[0m     \u001B[1;32mtry\u001B[0m\u001B[1;33m:\u001B[0m\u001B[1;33m\u001B[0m\u001B[1;33m\u001B[0m\u001B[0m\n\u001B[1;32m-> 1309\u001B[1;33m         \u001B[0mnew_values\u001B[0m \u001B[1;33m=\u001B[0m \u001B[0mastype_array\u001B[0m\u001B[1;33m(\u001B[0m\u001B[0mvalues\u001B[0m\u001B[1;33m,\u001B[0m \u001B[0mdtype\u001B[0m\u001B[1;33m,\u001B[0m \u001B[0mcopy\u001B[0m\u001B[1;33m=\u001B[0m\u001B[0mcopy\u001B[0m\u001B[1;33m)\u001B[0m\u001B[1;33m\u001B[0m\u001B[1;33m\u001B[0m\u001B[0m\n\u001B[0m\u001B[0;32m   1310\u001B[0m     \u001B[1;32mexcept\u001B[0m \u001B[1;33m(\u001B[0m\u001B[0mValueError\u001B[0m\u001B[1;33m,\u001B[0m \u001B[0mTypeError\u001B[0m\u001B[1;33m)\u001B[0m\u001B[1;33m:\u001B[0m\u001B[1;33m\u001B[0m\u001B[1;33m\u001B[0m\u001B[0m\n\u001B[0;32m   1311\u001B[0m         \u001B[1;31m# e.g. astype_nansafe can fail on object-dtype of strings\u001B[0m\u001B[1;33m\u001B[0m\u001B[1;33m\u001B[0m\u001B[1;33m\u001B[0m\u001B[0m\n",
      "\u001B[1;32m~\\AppData\\Local\\anaconda3\\envs\\pycharm\\lib\\site-packages\\pandas\\core\\dtypes\\cast.py\u001B[0m in \u001B[0;36mastype_array\u001B[1;34m(values, dtype, copy)\u001B[0m\n\u001B[0;32m   1255\u001B[0m \u001B[1;33m\u001B[0m\u001B[0m\n\u001B[0;32m   1256\u001B[0m     \u001B[1;32melse\u001B[0m\u001B[1;33m:\u001B[0m\u001B[1;33m\u001B[0m\u001B[1;33m\u001B[0m\u001B[0m\n\u001B[1;32m-> 1257\u001B[1;33m         \u001B[0mvalues\u001B[0m \u001B[1;33m=\u001B[0m \u001B[0mastype_nansafe\u001B[0m\u001B[1;33m(\u001B[0m\u001B[0mvalues\u001B[0m\u001B[1;33m,\u001B[0m \u001B[0mdtype\u001B[0m\u001B[1;33m,\u001B[0m \u001B[0mcopy\u001B[0m\u001B[1;33m=\u001B[0m\u001B[0mcopy\u001B[0m\u001B[1;33m)\u001B[0m\u001B[1;33m\u001B[0m\u001B[1;33m\u001B[0m\u001B[0m\n\u001B[0m\u001B[0;32m   1258\u001B[0m \u001B[1;33m\u001B[0m\u001B[0m\n\u001B[0;32m   1259\u001B[0m     \u001B[1;31m# in pandas we don't store numpy str dtypes, so convert to object\u001B[0m\u001B[1;33m\u001B[0m\u001B[1;33m\u001B[0m\u001B[1;33m\u001B[0m\u001B[0m\n",
      "\u001B[1;32m~\\AppData\\Local\\anaconda3\\envs\\pycharm\\lib\\site-packages\\pandas\\core\\dtypes\\cast.py\u001B[0m in \u001B[0;36mastype_nansafe\u001B[1;34m(arr, dtype, copy, skipna)\u001B[0m\n\u001B[0;32m   1166\u001B[0m \u001B[1;33m\u001B[0m\u001B[0m\n\u001B[0;32m   1167\u001B[0m     \u001B[1;32melif\u001B[0m \u001B[0mnp\u001B[0m\u001B[1;33m.\u001B[0m\u001B[0missubdtype\u001B[0m\u001B[1;33m(\u001B[0m\u001B[0marr\u001B[0m\u001B[1;33m.\u001B[0m\u001B[0mdtype\u001B[0m\u001B[1;33m,\u001B[0m \u001B[0mnp\u001B[0m\u001B[1;33m.\u001B[0m\u001B[0mfloating\u001B[0m\u001B[1;33m)\u001B[0m \u001B[1;32mand\u001B[0m \u001B[0mnp\u001B[0m\u001B[1;33m.\u001B[0m\u001B[0missubdtype\u001B[0m\u001B[1;33m(\u001B[0m\u001B[0mdtype\u001B[0m\u001B[1;33m,\u001B[0m \u001B[0mnp\u001B[0m\u001B[1;33m.\u001B[0m\u001B[0minteger\u001B[0m\u001B[1;33m)\u001B[0m\u001B[1;33m:\u001B[0m\u001B[1;33m\u001B[0m\u001B[1;33m\u001B[0m\u001B[0m\n\u001B[1;32m-> 1168\u001B[1;33m         \u001B[1;32mreturn\u001B[0m \u001B[0mastype_float_to_int_nansafe\u001B[0m\u001B[1;33m(\u001B[0m\u001B[0marr\u001B[0m\u001B[1;33m,\u001B[0m \u001B[0mdtype\u001B[0m\u001B[1;33m,\u001B[0m \u001B[0mcopy\u001B[0m\u001B[1;33m)\u001B[0m\u001B[1;33m\u001B[0m\u001B[1;33m\u001B[0m\u001B[0m\n\u001B[0m\u001B[0;32m   1169\u001B[0m \u001B[1;33m\u001B[0m\u001B[0m\n\u001B[0;32m   1170\u001B[0m     \u001B[1;32melif\u001B[0m \u001B[0mis_object_dtype\u001B[0m\u001B[1;33m(\u001B[0m\u001B[0marr\u001B[0m\u001B[1;33m)\u001B[0m\u001B[1;33m:\u001B[0m\u001B[1;33m\u001B[0m\u001B[1;33m\u001B[0m\u001B[0m\n",
      "\u001B[1;32m~\\AppData\\Local\\anaconda3\\envs\\pycharm\\lib\\site-packages\\pandas\\core\\dtypes\\cast.py\u001B[0m in \u001B[0;36mastype_float_to_int_nansafe\u001B[1;34m(values, dtype, copy)\u001B[0m\n\u001B[0;32m   1212\u001B[0m     \u001B[1;32mif\u001B[0m \u001B[1;32mnot\u001B[0m \u001B[0mnp\u001B[0m\u001B[1;33m.\u001B[0m\u001B[0misfinite\u001B[0m\u001B[1;33m(\u001B[0m\u001B[0mvalues\u001B[0m\u001B[1;33m)\u001B[0m\u001B[1;33m.\u001B[0m\u001B[0mall\u001B[0m\u001B[1;33m(\u001B[0m\u001B[1;33m)\u001B[0m\u001B[1;33m:\u001B[0m\u001B[1;33m\u001B[0m\u001B[1;33m\u001B[0m\u001B[0m\n\u001B[0;32m   1213\u001B[0m         raise IntCastingNaNError(\n\u001B[1;32m-> 1214\u001B[1;33m             \u001B[1;34m\"Cannot convert non-finite values (NA or inf) to integer\"\u001B[0m\u001B[1;33m\u001B[0m\u001B[1;33m\u001B[0m\u001B[0m\n\u001B[0m\u001B[0;32m   1215\u001B[0m         )\n\u001B[0;32m   1216\u001B[0m     \u001B[1;32mreturn\u001B[0m \u001B[0mvalues\u001B[0m\u001B[1;33m.\u001B[0m\u001B[0mastype\u001B[0m\u001B[1;33m(\u001B[0m\u001B[0mdtype\u001B[0m\u001B[1;33m,\u001B[0m \u001B[0mcopy\u001B[0m\u001B[1;33m=\u001B[0m\u001B[0mcopy\u001B[0m\u001B[1;33m)\u001B[0m\u001B[1;33m\u001B[0m\u001B[1;33m\u001B[0m\u001B[0m\n",
      "\u001B[1;31mIntCastingNaNError\u001B[0m: Cannot convert non-finite values (NA or inf) to integer"
     ]
    }
   ],
   "source": [
    "act_id = df_act_car_tra[df_act_car_tra.type == 'vehicle leaves traffic']\n",
    "act_id['act_id'] = act_id.groupby('person').cumcount()\n",
    "\n",
    "df_act_car_tra = pd.merge(df_act_car_tra, aaa[['act_id']], left_index=True, right_index=True, how=\"left\")\n",
    "\n"
   ],
   "metadata": {
    "collapsed": false
   }
  },
  {
   "cell_type": "code",
   "execution_count": 77,
   "outputs": [],
   "source": [
    "df_act_car_tra['act_id'].bfill(axis ='rows', inplace=True)\n",
    "df_act_car_tra['act_id'] = df_act_car_tra['act_id'].astype('int')\n"
   ],
   "metadata": {
    "collapsed": false
   }
  },
  {
   "cell_type": "code",
   "execution_count": 79,
   "outputs": [],
   "source": [
    "df_act_car_tra_bycategories = df_act_car_tra.groupby(['person','act_id','deso_category'])['link_distance'].sum().reset_index()\n"
   ],
   "metadata": {
    "collapsed": false
   }
  },
  {
   "cell_type": "code",
   "execution_count": 80,
   "outputs": [],
   "source": [
    "### add car with the fuel type to the trajectories\n",
    "\n",
    "df_act_car_tra_bycategories = pd.merge(df_act_car_tra_bycategories, df_act_car_segments[[\"person\", \"carType\"]], left_on= \"person\", right_on=\"person\", how=\"left\")"
   ],
   "metadata": {
    "collapsed": false
   }
  },
  {
   "cell_type": "code",
   "execution_count": 81,
   "outputs": [],
   "source": [
    "df_act_car_tra_bycategories = pd.merge(df_act_car_tra_bycategories, emission_factor, left_on= \"carType\", right_on=\"carType\", how=\"left\")"
   ],
   "metadata": {
    "collapsed": false
   }
  },
  {
   "cell_type": "markdown",
   "source": [
    "### calculate the link emissions"
   ],
   "metadata": {
    "collapsed": false
   }
  },
  {
   "cell_type": "code",
   "execution_count": 53,
   "outputs": [],
   "source": [
    "def link_emission(row):\n",
    "    if row['deso_category']=='C':\n",
    "        link_emission = row['link_distance']*row['TTW_city']\n",
    "    elif row['deso_category']=='M':\n",
    "        link_emission = row['link_distance']*row['TTW_mix']\n",
    "    elif (row['deso_category']=='A')|(row['deso_category']=='B'):\n",
    "        link_emission = row['link_distance']*row['TTW_rural']\n",
    "    return link_emission"
   ],
   "metadata": {
    "collapsed": false
   }
  },
  {
   "cell_type": "code",
   "execution_count": 82,
   "outputs": [],
   "source": [
    "df_act_car_tra_bycategories['link_emission'] = df_act_car_tra_bycategories.apply( lambda row: link_emission(row), axis=1)"
   ],
   "metadata": {
    "collapsed": false
   }
  },
  {
   "cell_type": "code",
   "execution_count": 83,
   "outputs": [
    {
     "data": {
      "text/plain": "2498299.6964397253"
     },
     "execution_count": 83,
     "metadata": {},
     "output_type": "execute_result"
    }
   ],
   "source": [
    "df_act_car_tra_bycategories['link_emission'].sum()"
   ],
   "metadata": {
    "collapsed": false
   }
  },
  {
   "cell_type": "code",
   "execution_count": 84,
   "outputs": [],
   "source": [
    "df_act_car_byactivities = df_act_car_tra_bycategories.groupby(['person','act_id'])['link_emission'].sum().reset_index()\n"
   ],
   "metadata": {
    "collapsed": false
   }
  },
  {
   "cell_type": "code",
   "execution_count": 85,
   "outputs": [
    {
     "data": {
      "text/plain": "2498299.6964397235"
     },
     "execution_count": 85,
     "metadata": {},
     "output_type": "execute_result"
    }
   ],
   "source": [],
   "metadata": {
    "collapsed": false
   }
  },
  {
   "cell_type": "code",
   "execution_count": null,
   "outputs": [],
   "source": [],
   "metadata": {
    "collapsed": false
   }
  }
 ],
 "metadata": {
  "kernelspec": {
   "display_name": "Python 3",
   "language": "python",
   "name": "python3"
  },
  "language_info": {
   "codemirror_mode": {
    "name": "ipython",
    "version": 2
   },
   "file_extension": ".py",
   "mimetype": "text/x-python",
   "name": "python",
   "nbconvert_exporter": "python",
   "pygments_lexer": "ipython2",
   "version": "2.7.6"
  }
 },
 "nbformat": 4,
 "nbformat_minor": 0
}
