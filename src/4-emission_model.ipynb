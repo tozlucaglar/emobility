{
 "cells": [
  {
   "cell_type": "code",
   "execution_count": 199,
   "metadata": {
    "collapsed": true
   },
   "outputs": [
    {
     "name": "stdout",
     "output_type": "stream",
     "text": [
      "C:\\emobility\n"
     ]
    }
   ],
   "source": [
    "import numpy as np\n",
    "import pandas as pd\n",
    "import os, sys\n",
    "import warnings\n",
    "from tqdm import tqdm\n",
    "\n",
    "warnings.filterwarnings('ignore')\n",
    "\n",
    "\n",
    "%cd C:\\emobility"
   ]
  },
  {
   "cell_type": "code",
   "execution_count": 218,
   "outputs": [],
   "source": [
    "df_act = pd.read_csv(f'./dbs/agents/1_activity_plans.csv')\n",
    "\n",
    "\n",
    "emission_factor = pd.read_csv(f'./dbs/emission/EmissionFactor.csv', delimiter=\";\")\n",
    "PHEV = emission_factor[['TTW', 'WTW']][(emission_factor['Type']== 'Car_PHEV_bensin') | (emission_factor['Type']== 'Car_PHEV_diesel')].mean(axis=0)\n",
    "emission_factor = emission_factor.append( PHEV, ignore_index=True ).drop([5, 6], axis=0)\n",
    "emission_factor.iloc[6,0] = 'Car_PHEV'\n",
    "emission_factor.replace(['Car_gasoline','Car_diesel','Car_ethanol','Car_gas','Car_el ','Car_PHEV'],[0,1,4,5,2,3], inplace=True)\n",
    "\n",
    "car_distribution = pd.read_csv(f'./dbs/emission/CarDistribution.csv', delimiter=\";\")\n",
    "\n",
    "\n",
    "car_distribution.loc[:,['Gasoline', 'Diesel', 'El', 'PHEV', 'Ethanol', 'Gas']] = car_distribution.loc[:,['Gasoline', 'Diesel', 'El', 'PHEV', 'Ethanol', 'Gas']].div(car_distribution['Total'], axis=0)\n",
    "\n",
    "car_distribution = car_distribution.drop(['Total'], axis=1)\n",
    "\n"
   ],
   "metadata": {
    "collapsed": false
   }
  },
  {
   "cell_type": "code",
   "execution_count": 208,
   "outputs": [],
   "source": [
    "def carType_assignment(row, car_distribution):\n",
    "    if row['deso'][:2] == '14':\n",
    "        prob = car_distribution[['Gasoline', 'Diesel', 'El', 'PHEV', 'Ethanol', 'Gas']][car_distribution.Kod==int(row['deso'][:4])].values.tolist()\n",
    "        pred = np.random.multinomial(1, prob[0], 1)\n",
    "        carType = pred[0].tolist().index(1)\n",
    "    else:\n",
    "        # for those not in VG, use VG general distribution\n",
    "        prob = [0.579957, 0.354470, 0.003693, 0.006844, 0.043670, 0.011365]\n",
    "        pred = np.random.multinomial(1, prob, 1)\n",
    "        carType = pred[0].tolist().index(1)\n",
    "\n",
    "    return carType\n",
    "\n",
    "\n"
   ],
   "metadata": {
    "collapsed": false
   }
  },
  {
   "cell_type": "code",
   "execution_count": 209,
   "outputs": [],
   "source": [
    "df_act_car_segments = df_act.drop_duplicates(subset=['person'])\n",
    "\n",
    "df_act_car_segments['carType'] = 100\n",
    "\n",
    "df_act_car_segments['carType'] = df_act_car_segments.apply( lambda row: carType_assignment(row, car_distribution), axis=1)"
   ],
   "metadata": {
    "collapsed": false
   }
  },
  {
   "cell_type": "code",
   "execution_count": 99,
   "outputs": [],
   "source": [
    "#df_act = pd.merge(df_act, df_act_car_segments[[\"person\", \"carType\"]], left_on= \"person\", right_on=\"person\", how=\"left\")"
   ],
   "metadata": {
    "collapsed": false
   }
  },
  {
   "cell_type": "code",
   "execution_count": 210,
   "outputs": [
    {
     "data": {
      "text/plain": "0    0.579758\n1    0.354600\n4    0.043687\n5    0.011558\n3    0.006821\n2    0.003576\nName: carType, dtype: float64"
     },
     "execution_count": 210,
     "metadata": {},
     "output_type": "execute_result"
    }
   ],
   "source": [
    "df_act_car_segments.carType.value_counts(normalize=True)"
   ],
   "metadata": {
    "collapsed": false
   }
  },
  {
   "cell_type": "code",
   "execution_count": null,
   "outputs": [],
   "source": [],
   "metadata": {
    "collapsed": false
   }
  },
  {
   "cell_type": "code",
   "execution_count": null,
   "outputs": [],
   "source": [],
   "metadata": {
    "collapsed": false
   }
  },
  {
   "cell_type": "code",
   "execution_count": 211,
   "outputs": [],
   "source": [
    "import geopandas as gpd\n",
    "\n",
    "\n",
    "road_network = gpd.read_file(f'./dbs/emission/road/5_road_network_with_slope.shp')\n",
    "\n",
    "road_network = road_network[['link_id','geometry']]\n",
    "road_network = road_network.reset_index()\n",
    "\n",
    "DeSO = gpd.read_file(f'./dbs/emission/deso_statistik_shp/Fordon_region.shp')\n",
    "DeSO = DeSO[['Deso','geometry']]\n",
    "DeSO['deso_category'] = DeSO['Deso'].str[4]\n",
    "\n",
    "\n",
    "DeSO = DeSO.to_crs(road_network.crs)"
   ],
   "metadata": {
    "collapsed": false
   }
  },
  {
   "cell_type": "code",
   "execution_count": 52,
   "outputs": [],
   "source": [
    "from spatial_operations import spatial_join\n",
    "\n",
    "\n",
    "if __name__ == '__main__':\n",
    "    road_network = spatial_join(road_network, DeSO)"
   ],
   "metadata": {
    "collapsed": false
   }
  },
  {
   "cell_type": "code",
   "execution_count": 53,
   "outputs": [],
   "source": [
    "#A DeSO in category A is mostly outside major population concentrations or urban areas. DeSO in category B is mostly located in a population concentration or agglomeration, but not in the municipality's central location. Category C includes DeSO, which is mostly located in the municipality's central location.\n",
    "\n",
    "road_network_zonecross= road_network[road_network.duplicated(subset=['index'], keep=False)]\n",
    "\n",
    "\n",
    "road_network_zonecross_mix = road_network_zonecross.groupby(['index']).agg({'deso_category': ' '.join}).reset_index()\n",
    "\n",
    "road_network_zonecross_mix = road_network_zonecross_mix[(road_network_zonecross_mix.deso_category==\"C A\")|(road_network_zonecross_mix.deso_category==\"A C\")]\n",
    "\n",
    "\n",
    "\n",
    "road_network = road_network.drop_duplicates(subset=['index'])\n",
    "\n",
    "road_network['deso_category'][road_network['index'].isin(list(road_network_zonecross_mix['index']))]='M'\n"
   ],
   "metadata": {
    "collapsed": false
   }
  },
  {
   "cell_type": "code",
   "execution_count": null,
   "outputs": [],
   "source": [],
   "metadata": {
    "collapsed": false
   }
  },
  {
   "cell_type": "code",
   "execution_count": 82,
   "outputs": [],
   "source": [
    "road_network_Noduplicate = road_network.copy()\n",
    "\n",
    "road_network_Noduplicate['deso_category'] = road_network_Noduplicate['deso_category'].fillna('M')\n"
   ],
   "metadata": {
    "collapsed": false
   }
  },
  {
   "cell_type": "code",
   "execution_count": 83,
   "outputs": [],
   "source": [
    "road_network_Noduplicate = road_network_Noduplicate.groupby(['link_id']).agg({'deso_category': ' '.join}).reset_index()"
   ],
   "metadata": {
    "collapsed": false
   }
  },
  {
   "cell_type": "code",
   "execution_count": 84,
   "outputs": [],
   "source": [
    "def deso_categories(row):\n",
    "    if len(row['deso_category'])==1:\n",
    "        deso_category = row['deso_category']\n",
    "    elif 'M' in row['deso_category']:\n",
    "        deso_category = 'M'\n",
    "    else:\n",
    "        deso_category = \"\".join(set(row['deso_category']))\n",
    "        if (len(deso_category)>1) & (\"C\" in deso_category) :\n",
    "            deso_category = 'M'\n",
    "        elif len(deso_category)>1  :\n",
    "            deso_category = 'B'\n",
    "\n",
    "    return deso_category\n"
   ],
   "metadata": {
    "collapsed": false
   }
  },
  {
   "cell_type": "code",
   "execution_count": 85,
   "outputs": [],
   "source": [
    "road_network_Noduplicate['deso_category'] = road_network_Noduplicate.apply( lambda row: deso_categories(row), axis=1)"
   ],
   "metadata": {
    "collapsed": false
   }
  },
  {
   "cell_type": "code",
   "execution_count": 86,
   "outputs": [
    {
     "data": {
      "text/plain": "C    0.453287\nA    0.324249\nB    0.199443\nM    0.023021\nName: deso_category, dtype: float64"
     },
     "execution_count": 86,
     "metadata": {},
     "output_type": "execute_result"
    }
   ],
   "source": [
    "#road_network_Noduplicate= pd.merge(road_network_Noduplicate, road_network[[\"link_id\", \"Deso\"]], left_on= \"link_id\", right_on=\"link_id\", how=\"left\")\n",
    "road_network_Noduplicate['deso_category'].value_counts(normalize=True)"
   ],
   "metadata": {
    "collapsed": false
   }
  },
  {
   "cell_type": "code",
   "execution_count": 163,
   "outputs": [],
   "source": [
    "df_act_car_tra = pd.read_csv(f'./dbs/emission/paraset0.csv', delimiter=\",\")\n"
   ],
   "metadata": {
    "collapsed": false
   }
  },
  {
   "cell_type": "code",
   "execution_count": 164,
   "outputs": [],
   "source": [
    "df_act_car_tra.sort_values([\"person\", \"seq\"], inplace=True)"
   ],
   "metadata": {
    "collapsed": false
   }
  },
  {
   "cell_type": "code",
   "execution_count": 166,
   "outputs": [],
   "source": [
    "df_act_car_tra = pd.merge(df_act_car_tra[['person', 'seq', 'time', 'purpose', 'type', 'link', 'distance_driven']], road_network_Noduplicate[['link_id', 'deso_category']], left_on= \"link\", right_on=\"link_id\", how=\"left\")"
   ],
   "metadata": {
    "collapsed": false
   }
  },
  {
   "cell_type": "code",
   "execution_count": 192,
   "outputs": [],
   "source": [
    "aaa = df_act_car_tra.head(10000)\n"
   ],
   "metadata": {
    "collapsed": false
   }
  },
  {
   "cell_type": "code",
   "execution_count": 193,
   "outputs": [
    {
     "data": {
      "text/plain": "      person  seq     time purpose                    type            link  \\\n0    1044313    0  30175.0  school  vehicle enters traffic   960412050001f   \n1    1044313    1  30176.0  school               left link   960412050001f   \n2    1044313    2  30191.0  school               left link   960412050001r   \n3    1044313    3  30202.0  school               left link   237476280006r   \n4    1044313    4  30220.0  school               left link   237476280003r   \n..       ...  ...      ...     ...                     ...             ...   \n97   1044313   97  52570.0    home               left link  5833582590001f   \n98   1044313   98  52577.0    home               left link   237476280000f   \n99   1044313   99  52595.0    home               left link   237476280003f   \n100  1044313  100  52606.0    home               left link   237476280006f   \n101  1044313  101  52620.0    home  vehicle leaves traffic   960412050001f   \n\n     distance_driven         link_id deso_category  link_distance  \n0           0.000000   960412050001f             C       0.000000  \n1           0.000000   960412050001f             C       0.000000  \n2           0.140481   960412050001r             C       0.140481  \n3           0.246943   237476280006r             C       0.106463  \n4           0.420595   237476280003r             C       0.173651  \n..               ...             ...           ...            ...  \n97         16.745102  5833582590001f             C       0.304535  \n98         16.813195   237476280000f             C       0.068094  \n99         16.986846   237476280003f             C       0.173651  \n100        17.093309   237476280006f             C       0.106463  \n101        17.093309   960412050001f             C       0.000000  \n\n[102 rows x 10 columns]",
      "text/html": "<div>\n<style scoped>\n    .dataframe tbody tr th:only-of-type {\n        vertical-align: middle;\n    }\n\n    .dataframe tbody tr th {\n        vertical-align: top;\n    }\n\n    .dataframe thead th {\n        text-align: right;\n    }\n</style>\n<table border=\"1\" class=\"dataframe\">\n  <thead>\n    <tr style=\"text-align: right;\">\n      <th></th>\n      <th>person</th>\n      <th>seq</th>\n      <th>time</th>\n      <th>purpose</th>\n      <th>type</th>\n      <th>link</th>\n      <th>distance_driven</th>\n      <th>link_id</th>\n      <th>deso_category</th>\n      <th>link_distance</th>\n    </tr>\n  </thead>\n  <tbody>\n    <tr>\n      <th>0</th>\n      <td>1044313</td>\n      <td>0</td>\n      <td>30175.0</td>\n      <td>school</td>\n      <td>vehicle enters traffic</td>\n      <td>960412050001f</td>\n      <td>0.000000</td>\n      <td>960412050001f</td>\n      <td>C</td>\n      <td>0.000000</td>\n    </tr>\n    <tr>\n      <th>1</th>\n      <td>1044313</td>\n      <td>1</td>\n      <td>30176.0</td>\n      <td>school</td>\n      <td>left link</td>\n      <td>960412050001f</td>\n      <td>0.000000</td>\n      <td>960412050001f</td>\n      <td>C</td>\n      <td>0.000000</td>\n    </tr>\n    <tr>\n      <th>2</th>\n      <td>1044313</td>\n      <td>2</td>\n      <td>30191.0</td>\n      <td>school</td>\n      <td>left link</td>\n      <td>960412050001r</td>\n      <td>0.140481</td>\n      <td>960412050001r</td>\n      <td>C</td>\n      <td>0.140481</td>\n    </tr>\n    <tr>\n      <th>3</th>\n      <td>1044313</td>\n      <td>3</td>\n      <td>30202.0</td>\n      <td>school</td>\n      <td>left link</td>\n      <td>237476280006r</td>\n      <td>0.246943</td>\n      <td>237476280006r</td>\n      <td>C</td>\n      <td>0.106463</td>\n    </tr>\n    <tr>\n      <th>4</th>\n      <td>1044313</td>\n      <td>4</td>\n      <td>30220.0</td>\n      <td>school</td>\n      <td>left link</td>\n      <td>237476280003r</td>\n      <td>0.420595</td>\n      <td>237476280003r</td>\n      <td>C</td>\n      <td>0.173651</td>\n    </tr>\n    <tr>\n      <th>...</th>\n      <td>...</td>\n      <td>...</td>\n      <td>...</td>\n      <td>...</td>\n      <td>...</td>\n      <td>...</td>\n      <td>...</td>\n      <td>...</td>\n      <td>...</td>\n      <td>...</td>\n    </tr>\n    <tr>\n      <th>97</th>\n      <td>1044313</td>\n      <td>97</td>\n      <td>52570.0</td>\n      <td>home</td>\n      <td>left link</td>\n      <td>5833582590001f</td>\n      <td>16.745102</td>\n      <td>5833582590001f</td>\n      <td>C</td>\n      <td>0.304535</td>\n    </tr>\n    <tr>\n      <th>98</th>\n      <td>1044313</td>\n      <td>98</td>\n      <td>52577.0</td>\n      <td>home</td>\n      <td>left link</td>\n      <td>237476280000f</td>\n      <td>16.813195</td>\n      <td>237476280000f</td>\n      <td>C</td>\n      <td>0.068094</td>\n    </tr>\n    <tr>\n      <th>99</th>\n      <td>1044313</td>\n      <td>99</td>\n      <td>52595.0</td>\n      <td>home</td>\n      <td>left link</td>\n      <td>237476280003f</td>\n      <td>16.986846</td>\n      <td>237476280003f</td>\n      <td>C</td>\n      <td>0.173651</td>\n    </tr>\n    <tr>\n      <th>100</th>\n      <td>1044313</td>\n      <td>100</td>\n      <td>52606.0</td>\n      <td>home</td>\n      <td>left link</td>\n      <td>237476280006f</td>\n      <td>17.093309</td>\n      <td>237476280006f</td>\n      <td>C</td>\n      <td>0.106463</td>\n    </tr>\n    <tr>\n      <th>101</th>\n      <td>1044313</td>\n      <td>101</td>\n      <td>52620.0</td>\n      <td>home</td>\n      <td>vehicle leaves traffic</td>\n      <td>960412050001f</td>\n      <td>17.093309</td>\n      <td>960412050001f</td>\n      <td>C</td>\n      <td>0.000000</td>\n    </tr>\n  </tbody>\n</table>\n<p>102 rows × 10 columns</p>\n</div>"
     },
     "execution_count": 193,
     "metadata": {},
     "output_type": "execute_result"
    }
   ],
   "source": [
    "df_act_car_tra[df_act_car_tra.person==1971397]\n"
   ],
   "metadata": {
    "collapsed": false
   }
  },
  {
   "cell_type": "code",
   "execution_count": 169,
   "outputs": [],
   "source": [
    "df_act_car_tra['distance_driven_shift'] = df_act_car_tra['distance_driven'].shift(-1)\n",
    "df_act_car_tra['person_shift'] = df_act_car_tra['person'].shift(-1).fillna(0).astype('int')\n",
    "\n",
    "df_act_car_tra['link_distance']=0"
   ],
   "metadata": {
    "collapsed": false
   }
  },
  {
   "cell_type": "code",
   "execution_count": 170,
   "outputs": [],
   "source": [
    "df_act_car_tra['link_distance'] = df_act_car_tra.apply( lambda row: row['distance_driven_shift']-row['distance_driven'] if row['person'] == row['person_shift'] else 0, axis=1)"
   ],
   "metadata": {
    "collapsed": false
   }
  },
  {
   "cell_type": "code",
   "execution_count": 171,
   "outputs": [],
   "source": [
    "# According to link distance (I have checked in Arcmap), shift rows.\n",
    "df_act_car_tra['link_distance'] = df_act_car_tra['link_distance'].shift(1).fillna(0)"
   ],
   "metadata": {
    "collapsed": false
   }
  },
  {
   "cell_type": "code",
   "execution_count": 172,
   "outputs": [],
   "source": [
    "df_OTP = pd.read_csv(f'./dbs/agents/od_pairs_vg.csv')\n",
    "\n",
    "df_OTP_last_activity = df_OTP.drop_duplicates(subset=['person'], keep='last')\n"
   ],
   "metadata": {
    "collapsed": false
   }
  },
  {
   "cell_type": "code",
   "execution_count": 173,
   "outputs": [
    {
     "data": {
      "text/plain": "          person  act_id act_purpose      lat_o      lng_o      lat_d  \\\n809881  10002928       0        work  57.757010  12.053026  57.728697   \n809882  10002928       1       other  57.728697  11.996491  57.719952   \n809883  10002928       2        work  57.719952  11.998955  57.728697   \n809884  10002928       3        home  57.728697  11.996491  57.757010   \n\n            lng_d  origin  destination  Age Gender  cycling_speed  part  \n809881  11.996491    1480         1480   51   Male      19.655208    29  \n809882  11.998955    1480         1480   51   Male      17.658943    29  \n809883  11.996491    1480         1480   51   Male      19.655208    29  \n809884  12.053026    1480         1480   51   Male      17.658943    29  ",
      "text/html": "<div>\n<style scoped>\n    .dataframe tbody tr th:only-of-type {\n        vertical-align: middle;\n    }\n\n    .dataframe tbody tr th {\n        vertical-align: top;\n    }\n\n    .dataframe thead th {\n        text-align: right;\n    }\n</style>\n<table border=\"1\" class=\"dataframe\">\n  <thead>\n    <tr style=\"text-align: right;\">\n      <th></th>\n      <th>person</th>\n      <th>act_id</th>\n      <th>act_purpose</th>\n      <th>lat_o</th>\n      <th>lng_o</th>\n      <th>lat_d</th>\n      <th>lng_d</th>\n      <th>origin</th>\n      <th>destination</th>\n      <th>Age</th>\n      <th>Gender</th>\n      <th>cycling_speed</th>\n      <th>part</th>\n    </tr>\n  </thead>\n  <tbody>\n    <tr>\n      <th>809881</th>\n      <td>10002928</td>\n      <td>0</td>\n      <td>work</td>\n      <td>57.757010</td>\n      <td>12.053026</td>\n      <td>57.728697</td>\n      <td>11.996491</td>\n      <td>1480</td>\n      <td>1480</td>\n      <td>51</td>\n      <td>Male</td>\n      <td>19.655208</td>\n      <td>29</td>\n    </tr>\n    <tr>\n      <th>809882</th>\n      <td>10002928</td>\n      <td>1</td>\n      <td>other</td>\n      <td>57.728697</td>\n      <td>11.996491</td>\n      <td>57.719952</td>\n      <td>11.998955</td>\n      <td>1480</td>\n      <td>1480</td>\n      <td>51</td>\n      <td>Male</td>\n      <td>17.658943</td>\n      <td>29</td>\n    </tr>\n    <tr>\n      <th>809883</th>\n      <td>10002928</td>\n      <td>2</td>\n      <td>work</td>\n      <td>57.719952</td>\n      <td>11.998955</td>\n      <td>57.728697</td>\n      <td>11.996491</td>\n      <td>1480</td>\n      <td>1480</td>\n      <td>51</td>\n      <td>Male</td>\n      <td>19.655208</td>\n      <td>29</td>\n    </tr>\n    <tr>\n      <th>809884</th>\n      <td>10002928</td>\n      <td>3</td>\n      <td>home</td>\n      <td>57.728697</td>\n      <td>11.996491</td>\n      <td>57.757010</td>\n      <td>12.053026</td>\n      <td>1480</td>\n      <td>1480</td>\n      <td>51</td>\n      <td>Male</td>\n      <td>17.658943</td>\n      <td>29</td>\n    </tr>\n  </tbody>\n</table>\n</div>"
     },
     "execution_count": 173,
     "metadata": {},
     "output_type": "execute_result"
    }
   ],
   "source": [
    "df_OTP[df_OTP.person==10002928]\n"
   ],
   "metadata": {
    "collapsed": false
   }
  },
  {
   "cell_type": "code",
   "execution_count": 174,
   "outputs": [],
   "source": [
    "df_act_last_activity = df_act_car_tra[df_act_car_tra.type == 'vehicle leaves traffic']\n",
    "\n",
    "df_act_last_activity = df_act_last_activity.drop_duplicates(subset=['person','type'], keep='last')"
   ],
   "metadata": {
    "collapsed": false
   }
  },
  {
   "cell_type": "code",
   "execution_count": 175,
   "outputs": [],
   "source": [
    "df_act_last_activity = pd.merge(df_act_last_activity[['person','seq']], df_OTP_last_activity[[\"person\", \"act_purpose\"]], left_on= \"person\", right_on=\"person\", how=\"left\")\n"
   ],
   "metadata": {
    "collapsed": false
   }
  },
  {
   "cell_type": "code",
   "execution_count": 176,
   "outputs": [],
   "source": [
    "df_act_car_tra = pd.merge(df_act_car_tra, df_act_last_activity, on= [\"person\",'seq'], how=\"left\")"
   ],
   "metadata": {
    "collapsed": false
   }
  },
  {
   "cell_type": "code",
   "execution_count": 177,
   "outputs": [],
   "source": [
    "df_act_car_tra['purpose'] = np.where(pd.isna(df_act_car_tra.purpose), df_act_car_tra['act_purpose'], df_act_car_tra['purpose'])"
   ],
   "metadata": {
    "collapsed": false
   }
  },
  {
   "cell_type": "code",
   "execution_count": 178,
   "outputs": [],
   "source": [
    "df_act_car_tra.sort_values([\"person\", \"seq\"], inplace=True)"
   ],
   "metadata": {
    "collapsed": false
   }
  },
  {
   "cell_type": "code",
   "execution_count": 179,
   "outputs": [],
   "source": [
    "df_act_car_tra['purpose'].bfill(axis ='rows', inplace=True)\n"
   ],
   "metadata": {
    "collapsed": false
   }
  },
  {
   "cell_type": "markdown",
   "source": [],
   "metadata": {
    "collapsed": false
   }
  },
  {
   "cell_type": "code",
   "execution_count": 180,
   "outputs": [],
   "source": [
    "df_act_car_tra.drop(['person_shift', 'distance_driven_shift','act_purpose', 'link_id'], inplace=True, axis=1)"
   ],
   "metadata": {
    "collapsed": false
   }
  },
  {
   "cell_type": "code",
   "execution_count": 220,
   "outputs": [],
   "source": [
    "df_act_car_tra_bycategories = df_act_car_tra.groupby(['person','purpose','deso_category'])['link_distance'].sum().reset_index()\n"
   ],
   "metadata": {
    "collapsed": false
   }
  },
  {
   "cell_type": "code",
   "execution_count": 221,
   "outputs": [],
   "source": [
    "df_act_car_tra_bycategories = pd.merge(df_act_car_tra_bycategories, df_act_car_segments[[\"person\", \"carType\"]], left_on= \"person\", right_on=\"person\", how=\"left\")"
   ],
   "metadata": {
    "collapsed": false
   }
  },
  {
   "cell_type": "code",
   "execution_count": 222,
   "outputs": [],
   "source": [
    "df_act_car_tra_bycategories = pd.merge(df_act_car_tra_bycategories, emission_factor[[\"Type\", \"TTW\"]], left_on= \"carType\", right_on=\"Type\", how=\"left\")"
   ],
   "metadata": {
    "collapsed": false
   }
  },
  {
   "cell_type": "code",
   "execution_count": null,
   "outputs": [],
   "source": [
    "\n",
    "\n"
   ],
   "metadata": {
    "collapsed": false
   }
  },
  {
   "cell_type": "code",
   "execution_count": 223,
   "outputs": [
    {
     "name": "stdout",
     "output_type": "stream",
     "text": [
      "a\n"
     ]
    }
   ],
   "source": [
    "print('a')"
   ],
   "metadata": {
    "collapsed": false
   }
  },
  {
   "cell_type": "code",
   "execution_count": null,
   "outputs": [],
   "source": [],
   "metadata": {
    "collapsed": false
   }
  }
 ],
 "metadata": {
  "kernelspec": {
   "display_name": "Python 3",
   "language": "python",
   "name": "python3"
  },
  "language_info": {
   "codemirror_mode": {
    "name": "ipython",
    "version": 2
   },
   "file_extension": ".py",
   "mimetype": "text/x-python",
   "name": "python",
   "nbconvert_exporter": "python",
   "pygments_lexer": "ipython2",
   "version": "2.7.6"
  }
 },
 "nbformat": 4,
 "nbformat_minor": 0
}
