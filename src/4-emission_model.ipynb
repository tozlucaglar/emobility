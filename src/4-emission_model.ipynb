{
 "cells": [
  {
   "cell_type": "code",
   "execution_count": 1,
   "metadata": {
    "collapsed": true
   },
   "outputs": [
    {
     "name": "stdout",
     "output_type": "stream",
     "text": [
      "C:\\emobility\n"
     ]
    }
   ],
   "source": [
    "import numpy as np\n",
    "import pandas as pd\n",
    "import os, sys\n",
    "import warnings\n",
    "from tqdm import tqdm\n",
    "\n",
    "warnings.filterwarnings('ignore')\n",
    "\n",
    "\n",
    "%cd C:\\emobility"
   ]
  },
  {
   "cell_type": "markdown",
   "source": [
    "## Car assignment"
   ],
   "metadata": {
    "collapsed": false
   }
  },
  {
   "cell_type": "code",
   "execution_count": 2,
   "outputs": [],
   "source": [
    "df_act = pd.read_csv(f'./dbs/agents/1_activity_plans.csv')\n",
    "\n",
    "\n",
    "emission_factor = pd.read_csv(f'./dbs/emission/EmissionFactor.csv', delimiter=\";\")\n",
    "PHEV = emission_factor[(emission_factor['carType']== 'Car_PHEV_bensin') | (emission_factor['carType']== 'Car_PHEV_diesel')].mean(axis=0)\n",
    "emission_factor = emission_factor.append( PHEV, ignore_index=True ).drop([4, 5], axis=0)\n",
    "emission_factor.iloc[5,0] = 'Car_PHEV'\n",
    "emission_factor.replace(['Car_gasoline','Car_diesel','Car_ethanol','Car_gas','Car_el ','Car_PHEV'],[0,1,4,5,2,3], inplace=True)\n",
    "\n",
    "\n",
    "\n",
    "\n",
    "car_distribution = pd.read_csv(f'./dbs/emission/CarDistribution.csv', delimiter=\";\")\n",
    "car_distribution.loc[:,['Gasoline', 'Diesel', 'El', 'PHEV', 'Ethanol', 'Gas']] = car_distribution.loc[:,['Gasoline', 'Diesel', 'El', 'PHEV', 'Ethanol', 'Gas']].div(car_distribution['Total'], axis=0)\n",
    "\n",
    "car_distribution = car_distribution.drop(['Total'], axis=1)\n",
    "\n"
   ],
   "metadata": {
    "collapsed": false
   }
  },
  {
   "cell_type": "code",
   "execution_count": 3,
   "outputs": [],
   "source": [
    "def carType_assignment(row, car_distribution):\n",
    "    if row['deso'][:2] == '14':\n",
    "        prob = car_distribution[['Gasoline', 'Diesel', 'El', 'PHEV', 'Ethanol', 'Gas']][car_distribution.Kod==int(row['deso'][:4])].values.tolist()\n",
    "        pred = np.random.multinomial(1, prob[0], 1)\n",
    "        carType = pred[0].tolist().index(1)\n",
    "    else:\n",
    "        # for those not in VG, use VG general distribution\n",
    "        prob = [0.579957, 0.354470, 0.003693, 0.006844, 0.043670, 0.011365]\n",
    "        pred = np.random.multinomial(1, prob, 1)\n",
    "        carType = pred[0].tolist().index(1)\n",
    "\n",
    "    return carType\n",
    "\n",
    "\n"
   ],
   "metadata": {
    "collapsed": false
   }
  },
  {
   "cell_type": "code",
   "execution_count": 4,
   "outputs": [],
   "source": [
    "#df_act = pd.merge(df_act, df_act_car_segments[[\"person\", \"carType\"]], left_on= \"person\", right_on=\"person\", how=\"left\")"
   ],
   "metadata": {
    "collapsed": false
   }
  },
  {
   "cell_type": "code",
   "execution_count": 5,
   "outputs": [],
   "source": [
    "df_act_car_segments = df_act.drop_duplicates(subset=['person'])\n",
    "\n",
    "df_act_car_segments['carType'] = 100\n",
    "\n",
    "df_act_car_segments['carType'] = df_act_car_segments.apply( lambda row: carType_assignment(row, car_distribution), axis=1)"
   ],
   "metadata": {
    "collapsed": false
   }
  },
  {
   "cell_type": "code",
   "execution_count": 6,
   "outputs": [
    {
     "name": "stdout",
     "output_type": "stream",
     "text": [
      "car distribution by fuel type at the aggregated level\n"
     ]
    },
    {
     "data": {
      "text/plain": "0    0.579118\n1    0.355501\n4    0.043251\n5    0.011533\n3    0.006849\n2    0.003748\nName: carType, dtype: float64"
     },
     "execution_count": 6,
     "metadata": {},
     "output_type": "execute_result"
    }
   ],
   "source": [
    "print('car distribution by fuel type at the aggregated level')\n",
    "df_act_car_segments.carType.value_counts(normalize=True)"
   ],
   "metadata": {
    "collapsed": false
   }
  },
  {
   "cell_type": "code",
   "execution_count": 6,
   "outputs": [],
   "source": [],
   "metadata": {
    "collapsed": false
   }
  },
  {
   "cell_type": "markdown",
   "source": [
    "## Emission calculation\n",
    "### the road network classification by the population density in DeSO where the road link passes"
   ],
   "metadata": {
    "collapsed": false
   }
  },
  {
   "cell_type": "markdown",
   "source": [],
   "metadata": {
    "collapsed": false
   }
  },
  {
   "cell_type": "code",
   "execution_count": 7,
   "outputs": [
    {
     "ename": "NameError",
     "evalue": "name 'road_network' is not defined",
     "output_type": "error",
     "traceback": [
      "\u001B[1;31m---------------------------------------------------------------------------\u001B[0m",
      "\u001B[1;31mNameError\u001B[0m                                 Traceback (most recent call last)",
      "\u001B[1;32m<ipython-input-7-11b8258c1bc5>\u001B[0m in \u001B[0;36m<module>\u001B[1;34m\u001B[0m\n\u001B[0;32m      6\u001B[0m \u001B[0mroad_network1\u001B[0m \u001B[1;33m=\u001B[0m \u001B[0mgpd\u001B[0m\u001B[1;33m.\u001B[0m\u001B[0mread_file\u001B[0m\u001B[1;33m(\u001B[0m\u001B[1;34mf'./dbs/emission/road/5_road_network_with_slope.shp'\u001B[0m\u001B[1;33m)\u001B[0m\u001B[1;33m\u001B[0m\u001B[1;33m\u001B[0m\u001B[0m\n\u001B[0;32m      7\u001B[0m \u001B[1;33m\u001B[0m\u001B[0m\n\u001B[1;32m----> 8\u001B[1;33m \u001B[0mroad_network\u001B[0m \u001B[1;33m=\u001B[0m \u001B[0mroad_network\u001B[0m\u001B[1;33m[\u001B[0m\u001B[1;33m[\u001B[0m\u001B[1;34m'link_id'\u001B[0m\u001B[1;33m,\u001B[0m\u001B[1;34m'geometry'\u001B[0m\u001B[1;33m]\u001B[0m\u001B[1;33m]\u001B[0m\u001B[1;33m\u001B[0m\u001B[1;33m\u001B[0m\u001B[0m\n\u001B[0m\u001B[0;32m      9\u001B[0m \u001B[0mroad_network\u001B[0m \u001B[1;33m=\u001B[0m \u001B[0mroad_network\u001B[0m\u001B[1;33m.\u001B[0m\u001B[0mreset_index\u001B[0m\u001B[1;33m(\u001B[0m\u001B[1;33m)\u001B[0m\u001B[1;33m\u001B[0m\u001B[1;33m\u001B[0m\u001B[0m\n\u001B[0;32m     10\u001B[0m \u001B[1;33m\u001B[0m\u001B[0m\n",
      "\u001B[1;31mNameError\u001B[0m: name 'road_network' is not defined"
     ]
    }
   ],
   "source": [
    "import geopandas as gpd\n",
    "\n",
    "#A DeSO in category A is rural areas. B is mostly located in a suburban areas. C is mostly located in the municipality's central location.\n",
    "# read the road network and DeSO zones\n",
    "\n",
    "road_network = gpd.read_file(f'./dbs/emission/road/5_road_network_with_slope.shp')\n",
    "\n",
    "road_network = road_network[['link_id','geometry']]\n",
    "road_network = road_network.reset_index()\n",
    "\n",
    "DeSO = gpd.read_file(f'./dbs/emission/deso_statistik_shp/Fordon_region.shp')\n",
    "DeSO = DeSO[['Deso','geometry']]\n",
    "DeSO['deso_category'] = DeSO['Deso'].str[4]\n",
    "\n",
    "\n",
    "DeSO = DeSO.to_crs(road_network.crs)"
   ],
   "metadata": {
    "collapsed": false
   }
  },
  {
   "cell_type": "code",
   "execution_count": null,
   "outputs": [],
   "source": [
    "from spatial_operations import spatial_join\n",
    "\n",
    "\n",
    "if __name__ == '__main__':\n",
    "    road_network = spatial_join(road_network, DeSO)\n",
    "\n",
    "# the links crossing multiple DeSO are duplicated in the spatial join process.\n",
    "# the link id is no unique, and it crosses multiple DeSO zones when it be combined"
   ],
   "metadata": {
    "collapsed": false
   }
  },
  {
   "cell_type": "code",
   "execution_count": null,
   "outputs": [],
   "source": [
    "\n",
    "# road_network_zonecross= road_network[road_network.duplicated(subset=['index'], keep=False)]\n",
    "#\n",
    "#\n",
    "# road_network_zonecross_mix = road_network_zonecross.groupby(['index']).agg({'deso_category': ' '.join}).reset_index()"
   ],
   "metadata": {
    "collapsed": false
   }
  },
  {
   "cell_type": "code",
   "execution_count": null,
   "outputs": [],
   "source": [
    "# road_network_zonecross_mix.deso_category.value_counts()\n"
   ],
   "metadata": {
    "collapsed": false
   }
  },
  {
   "cell_type": "code",
   "execution_count": null,
   "outputs": [],
   "source": [
    "\n",
    "# road_network_zonecross_mix = road_network_zonecross_mix[(road_network_zonecross_mix.deso_category==\"C A\")|(road_network_zonecross_mix.deso_category==\"A C\")]\n",
    "#\n",
    "#\n",
    "#\n",
    "# road_network = road_network.drop_duplicates(subset=['index'])\n",
    "#\n",
    "# road_network['deso_category'][road_network['index'].isin(list(road_network_zonecross_mix['index']))]='M'\n"
   ],
   "metadata": {
    "collapsed": false
   }
  },
  {
   "cell_type": "code",
   "execution_count": null,
   "outputs": [],
   "source": [],
   "metadata": {
    "collapsed": false
   }
  },
  {
   "cell_type": "code",
   "execution_count": null,
   "outputs": [],
   "source": [
    "road_network_Noduplicate = road_network.copy()\n",
    "\n",
    "road_network_Noduplicate['deso_category'] = road_network_Noduplicate['deso_category'].fillna('M')\n"
   ],
   "metadata": {
    "collapsed": false
   }
  },
  {
   "cell_type": "code",
   "execution_count": null,
   "outputs": [],
   "source": [
    "road_network_Noduplicate = road_network_Noduplicate.groupby(['link_id']).agg({'deso_category': ' '.join}).reset_index()"
   ],
   "metadata": {
    "collapsed": false
   }
  },
  {
   "cell_type": "code",
   "execution_count": null,
   "outputs": [],
   "source": [
    "#road_network_Noduplicate.deso_category.value_counts()\n"
   ],
   "metadata": {
    "collapsed": false
   }
  },
  {
   "cell_type": "code",
   "execution_count": null,
   "outputs": [],
   "source": [
    "def deso_categories(row):\n",
    "    if len(row['deso_category'])==1:\n",
    "        deso_category = row['deso_category']\n",
    "    elif 'M' in row['deso_category']:\n",
    "        deso_category = 'M'\n",
    "    else:\n",
    "        deso_category = \"\".join(set(row['deso_category']))\n",
    "        if (len(deso_category)>1) & (\"C\" in deso_category) :\n",
    "            deso_category = 'M'\n",
    "        elif (len(deso_category)>1) :\n",
    "            deso_category = 'B'\n",
    "        #elif: (len(deso_category)>1) & (\"A\" in deso_category)  :\n",
    "            #deso_category = 'B'\n",
    "\n",
    "    return deso_category"
   ],
   "metadata": {
    "collapsed": false
   }
  },
  {
   "cell_type": "code",
   "execution_count": null,
   "outputs": [],
   "source": [
    "# def deso_categories(row):\n",
    "#     if len(row['deso_category'])==1:\n",
    "#         deso_category = row['deso_category']\n",
    "#     elif 'M' in row['deso_category']:\n",
    "#         deso_category = 'M'\n",
    "#     else:\n",
    "#         deso_category = \"\".join(set(row['deso_category']))\n",
    "#         if (len(deso_category)>1) & (\"C\" in deso_category) :\n",
    "#             deso_category = 'M'\n",
    "#         elif len(deso_category)>1  :\n",
    "#             deso_category = 'B'\n",
    "#\n",
    "#     return deso_category\n"
   ],
   "metadata": {
    "collapsed": false
   }
  },
  {
   "cell_type": "code",
   "execution_count": null,
   "outputs": [],
   "source": [
    "road_network_Noduplicate['deso_category'] = road_network_Noduplicate.apply( lambda row: deso_categories(row), axis=1)"
   ],
   "metadata": {
    "collapsed": false
   }
  },
  {
   "cell_type": "code",
   "execution_count": null,
   "outputs": [],
   "source": [
    "#road_network_Noduplicate= pd.merge(road_network_Noduplicate, road_network[[\"link_id\", \"Deso\"]], left_on= \"link_id\", right_on=\"link_id\", how=\"left\")\n",
    "road_network_Noduplicate['deso_category'].value_counts(normalize=True)"
   ],
   "metadata": {
    "collapsed": false
   }
  },
  {
   "cell_type": "code",
   "execution_count": null,
   "outputs": [],
   "source": [
    "#road_network_Noduplicate = road_network_Noduplicate.groupby(['link_id']).agg({'deso_category': ' '.join}).reset_index()\n",
    "# road_network_Deso = road_network.copy()\n",
    "# road_network_Deso['Deso'] = road_network_Deso['Deso'].fillna('M')\n",
    "# road_network_Deso = road_network_Deso.groupby(['link_id']).agg({'Deso': ' '.join}).reset_index()"
   ],
   "metadata": {
    "collapsed": false
   }
  },
  {
   "cell_type": "code",
   "execution_count": null,
   "outputs": [],
   "source": [
    "road_network_Deso = road_network.copy()\n",
    "road_network_Deso['Deso'] = road_network_Deso['Deso'].fillna('M')\n",
    "road_network_Deso = road_network_Deso.groupby('link_id')['Deso'].apply(list).reset_index()\n"
   ],
   "metadata": {
    "collapsed": false
   }
  },
  {
   "cell_type": "code",
   "execution_count": null,
   "outputs": [],
   "source": [
    "#len(road_network_Deso['Deso'].iloc[43])"
   ],
   "metadata": {
    "collapsed": false
   }
  },
  {
   "cell_type": "markdown",
   "source": [
    "### car movement trajectories on the road network"
   ],
   "metadata": {
    "collapsed": false
   }
  },
  {
   "cell_type": "markdown",
   "source": [],
   "metadata": {
    "collapsed": false
   }
  },
  {
   "cell_type": "code",
   "execution_count": null,
   "outputs": [],
   "source": [
    "df_act_car_tra = pd.read_csv(f'./dbs/emission/paraset0.csv', delimiter=\",\")\n"
   ],
   "metadata": {
    "collapsed": false
   }
  },
  {
   "cell_type": "code",
   "execution_count": null,
   "outputs": [],
   "source": [
    "df_act_car_tra.sort_values([\"person\", \"seq\"], inplace=True)"
   ],
   "metadata": {
    "collapsed": false
   }
  },
  {
   "cell_type": "code",
   "execution_count": null,
   "outputs": [],
   "source": [
    "df_act_car_tra = pd.merge(df_act_car_tra[['person', 'seq', 'time', 'purpose', 'type', 'link', 'distance_driven']], road_network_Noduplicate[['link_id', 'deso_category']], left_on= \"link\", right_on=\"link_id\", how=\"left\")"
   ],
   "metadata": {
    "collapsed": false
   }
  },
  {
   "cell_type": "code",
   "execution_count": null,
   "outputs": [],
   "source": [
    "df_act_car_tra = pd.merge(df_act_car_tra, road_network_Deso, left_on= \"link\", right_on=\"link_id\", how=\"left\")"
   ],
   "metadata": {
    "collapsed": false
   }
  },
  {
   "cell_type": "code",
   "execution_count": null,
   "outputs": [],
   "source": [
    "#aaa = df_act_car_tra.head(10000)\n"
   ],
   "metadata": {
    "collapsed": false
   }
  },
  {
   "cell_type": "code",
   "execution_count": null,
   "outputs": [],
   "source": [
    "#df_act_car_tra[df_act_car_tra.person==1971397]\n"
   ],
   "metadata": {
    "collapsed": false
   }
  },
  {
   "cell_type": "code",
   "execution_count": null,
   "outputs": [],
   "source": [
    "df_act_car_tra['distance_driven_shift'] = df_act_car_tra['distance_driven'].shift(-1)\n",
    "df_act_car_tra['person_shift'] = df_act_car_tra['person'].shift(-1).fillna(0).astype('int')\n",
    "\n",
    "df_act_car_tra['link_distance']=0"
   ],
   "metadata": {
    "collapsed": false
   }
  },
  {
   "cell_type": "code",
   "execution_count": null,
   "outputs": [],
   "source": [
    "df_act_car_tra['link_distance'] = df_act_car_tra.apply( lambda row: row['distance_driven_shift']-row['distance_driven'] if row['person'] == row['person_shift'] else 0, axis=1)"
   ],
   "metadata": {
    "collapsed": false
   }
  },
  {
   "cell_type": "code",
   "execution_count": null,
   "outputs": [],
   "source": [
    "# According to link distance (I have checked in Arcmap), shift rows.\n",
    "df_act_car_tra['link_distance'] = df_act_car_tra['link_distance'].shift(1).fillna(0)"
   ],
   "metadata": {
    "collapsed": false
   }
  },
  {
   "cell_type": "markdown",
   "source": [
    "### activity purpose deduction"
   ],
   "metadata": {
    "collapsed": false
   }
  },
  {
   "cell_type": "code",
   "execution_count": null,
   "outputs": [],
   "source": [
    "df_OTP = pd.read_csv(f'./dbs/agents/od_pairs_vg.csv')\n",
    "\n",
    "df_OTP_last_activity = df_OTP.drop_duplicates(subset=['person'], keep='last')\n"
   ],
   "metadata": {
    "collapsed": false
   }
  },
  {
   "cell_type": "code",
   "execution_count": null,
   "outputs": [],
   "source": [
    "#df_OTP[df_OTP.person==10002928]\n"
   ],
   "metadata": {
    "collapsed": false
   }
  },
  {
   "cell_type": "code",
   "execution_count": null,
   "outputs": [],
   "source": [
    "df_act_last_activity = df_act_car_tra[df_act_car_tra.type == 'vehicle leaves traffic']\n",
    "\n",
    "df_act_last_activity = df_act_last_activity.drop_duplicates(subset=['person','type'], keep='last')"
   ],
   "metadata": {
    "collapsed": false
   }
  },
  {
   "cell_type": "code",
   "execution_count": null,
   "outputs": [],
   "source": [
    "df_act_last_activity = pd.merge(df_act_last_activity[['person','seq']], df_OTP_last_activity[[\"person\", \"act_purpose\"]], left_on= \"person\", right_on=\"person\", how=\"left\")\n"
   ],
   "metadata": {
    "collapsed": false
   }
  },
  {
   "cell_type": "code",
   "execution_count": null,
   "outputs": [],
   "source": [
    "df_act_car_tra = pd.merge(df_act_car_tra, df_act_last_activity, on= [\"person\",'seq'], how=\"left\")"
   ],
   "metadata": {
    "collapsed": false
   }
  },
  {
   "cell_type": "code",
   "execution_count": null,
   "outputs": [],
   "source": [
    "df_act_car_tra['purpose'] = np.where(pd.isna(df_act_car_tra.purpose), df_act_car_tra['act_purpose'], df_act_car_tra['purpose'])"
   ],
   "metadata": {
    "collapsed": false
   }
  },
  {
   "cell_type": "code",
   "execution_count": null,
   "outputs": [],
   "source": [
    "df_act_car_tra.sort_values([\"person\", \"seq\"], inplace=True)"
   ],
   "metadata": {
    "collapsed": false
   }
  },
  {
   "cell_type": "code",
   "execution_count": null,
   "outputs": [],
   "source": [
    "df_act_car_tra['purpose'].bfill(axis ='rows', inplace=True)\n"
   ],
   "metadata": {
    "collapsed": false
   }
  },
  {
   "cell_type": "code",
   "execution_count": null,
   "outputs": [],
   "source": [
    "df_act_car_tra.drop(['person_shift', 'distance_driven_shift','act_purpose', 'link_id'], inplace=True, axis=1)"
   ],
   "metadata": {
    "collapsed": false
   }
  },
  {
   "cell_type": "markdown",
   "source": [
    "here"
   ],
   "metadata": {
    "collapsed": false
   }
  },
  {
   "cell_type": "code",
   "execution_count": null,
   "outputs": [],
   "source": [
    "#bbb = pd.merge(df_OTP, aaa, left_on= [\"person\",'act_id'], right_on=[\"person\",'act_id'], how=\"left\")"
   ],
   "metadata": {
    "collapsed": false
   }
  },
  {
   "cell_type": "code",
   "execution_count": null,
   "outputs": [],
   "source": [
    "#df_act[df_act.person==2208394]"
   ],
   "metadata": {
    "collapsed": false
   }
  },
  {
   "cell_type": "code",
   "execution_count": null,
   "outputs": [],
   "source": [
    "#df_act_car_tra[df_act_car_tra.person==2208394]"
   ],
   "metadata": {
    "collapsed": false
   }
  },
  {
   "cell_type": "markdown",
   "source": [
    "here"
   ],
   "metadata": {
    "collapsed": false
   }
  },
  {
   "cell_type": "markdown",
   "source": [
    "### assign activity IDs"
   ],
   "metadata": {
    "collapsed": false
   }
  },
  {
   "cell_type": "code",
   "execution_count": null,
   "outputs": [],
   "source": [
    "act_id = df_act_car_tra[df_act_car_tra.type == 'vehicle leaves traffic']\n",
    "act_id['act_id'] = act_id.groupby('person').cumcount()\n",
    "\n",
    "df_act_car_tra = pd.merge(df_act_car_tra, aaa[['act_id']], left_index=True, right_index=True, how=\"left\")\n",
    "\n"
   ],
   "metadata": {
    "collapsed": false
   }
  },
  {
   "cell_type": "code",
   "execution_count": 77,
   "outputs": [],
   "source": [
    "df_act_car_tra['act_id'].bfill(axis ='rows', inplace=True)\n",
    "df_act_car_tra['act_id'] = df_act_car_tra['act_id'].astype('int')\n"
   ],
   "metadata": {
    "collapsed": false
   }
  },
  {
   "cell_type": "code",
   "execution_count": 79,
   "outputs": [],
   "source": [
    "df_act_car_tra_bycategories = df_act_car_tra.groupby(['person','act_id','deso_category'])['link_distance'].sum().reset_index()\n"
   ],
   "metadata": {
    "collapsed": false
   }
  },
  {
   "cell_type": "code",
   "execution_count": 80,
   "outputs": [],
   "source": [
    "### add car with the fuel type to the trajectories\n",
    "\n",
    "df_act_car_tra_bycategories = pd.merge(df_act_car_tra_bycategories, df_act_car_segments[[\"person\", \"carType\"]], left_on= \"person\", right_on=\"person\", how=\"left\")"
   ],
   "metadata": {
    "collapsed": false
   }
  },
  {
   "cell_type": "code",
   "execution_count": 81,
   "outputs": [],
   "source": [
    "df_act_car_tra_bycategories = pd.merge(df_act_car_tra_bycategories, emission_factor, left_on= \"carType\", right_on=\"carType\", how=\"left\")"
   ],
   "metadata": {
    "collapsed": false
   }
  },
  {
   "cell_type": "markdown",
   "source": [
    "### calculate the link emissions"
   ],
   "metadata": {
    "collapsed": false
   }
  },
  {
   "cell_type": "code",
   "execution_count": 53,
   "outputs": [],
   "source": [
    "def link_emission(row):\n",
    "    if row['deso_category']=='C':\n",
    "        link_emission = row['link_distance']*row['TTW_city']\n",
    "    elif row['deso_category']=='M':\n",
    "        link_emission = row['link_distance']*row['TTW_mix']\n",
    "    elif (row['deso_category']=='A')|(row['deso_category']=='B'):\n",
    "        link_emission = row['link_distance']*row['TTW_rural']\n",
    "    return link_emission"
   ],
   "metadata": {
    "collapsed": false
   }
  },
  {
   "cell_type": "code",
   "execution_count": 82,
   "outputs": [],
   "source": [
    "df_act_car_tra_bycategories['link_emission'] = df_act_car_tra_bycategories.apply( lambda row: link_emission(row), axis=1)"
   ],
   "metadata": {
    "collapsed": false
   }
  },
  {
   "cell_type": "code",
   "execution_count": 83,
   "outputs": [
    {
     "data": {
      "text/plain": "2498299.6964397253"
     },
     "execution_count": 83,
     "metadata": {},
     "output_type": "execute_result"
    }
   ],
   "source": [
    "df_act_car_tra_bycategories['link_emission'].sum()"
   ],
   "metadata": {
    "collapsed": false
   }
  },
  {
   "cell_type": "code",
   "execution_count": 84,
   "outputs": [],
   "source": [
    "df_act_car_byactivities = df_act_car_tra_bycategories.groupby(['person','act_id'])['link_emission'].sum().reset_index()\n"
   ],
   "metadata": {
    "collapsed": false
   }
  },
  {
   "cell_type": "code",
   "execution_count": 85,
   "outputs": [
    {
     "data": {
      "text/plain": "2498299.6964397235"
     },
     "execution_count": 85,
     "metadata": {},
     "output_type": "execute_result"
    }
   ],
   "source": [],
   "metadata": {
    "collapsed": false
   }
  },
  {
   "cell_type": "code",
   "execution_count": null,
   "outputs": [],
   "source": [],
   "metadata": {
    "collapsed": false
   }
  }
 ],
 "metadata": {
  "kernelspec": {
   "display_name": "Python 3",
   "language": "python",
   "name": "python3"
  },
  "language_info": {
   "codemirror_mode": {
    "name": "ipython",
    "version": 2
   },
   "file_extension": ".py",
   "mimetype": "text/x-python",
   "name": "python",
   "nbconvert_exporter": "python",
   "pygments_lexer": "ipython2",
   "version": "2.7.6"
  }
 },
 "nbformat": 4,
 "nbformat_minor": 0
}
