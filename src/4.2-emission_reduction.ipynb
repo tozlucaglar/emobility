{
 "cells": [
  {
   "cell_type": "code",
   "execution_count": 1,
   "metadata": {
    "collapsed": true
   },
   "outputs": [
    {
     "name": "stdout",
     "output_type": "stream",
     "text": [
      "C:\\emobility\n"
     ]
    }
   ],
   "source": [
    "import numpy as np\n",
    "import pandas as pd\n",
    "import os, sys\n",
    "import warnings\n",
    "from tqdm import tqdm\n",
    "\n",
    "warnings.filterwarnings('ignore')\n",
    "\n",
    "\n",
    "%cd C:\\emobility"
   ]
  },
  {
   "cell_type": "code",
   "execution_count": 2,
   "outputs": [],
   "source": [
    "replacement_bybike = pd.read_pickle(f\"./dbs/output/replacement_bybike.pkl\")\n",
    "emission_bylink = pd.read_pickle(f\"./dbs/output/emission_bylink.pkl\")\n"
   ],
   "metadata": {
    "collapsed": false
   }
  },
  {
   "cell_type": "code",
   "execution_count": 3,
   "outputs": [],
   "source": [
    "\n",
    "replacement_bybike['changed_act_id'] = replacement_bybike.groupby('person').cumcount()\n"
   ],
   "metadata": {
    "collapsed": false
   }
  },
  {
   "cell_type": "code",
   "execution_count": 4,
   "outputs": [],
   "source": [
    "emission_bylink = pd.merge(emission_bylink, replacement_bybike[[\"person\",'changed_act_id','tour_replacement']], left_on= [\"person\",'act_id'], right_on= [\"person\",'changed_act_id'], how=\"left\")"
   ],
   "metadata": {
    "collapsed": false
   }
  },
  {
   "cell_type": "code",
   "execution_count": 5,
   "outputs": [
    {
     "name": "stdout",
     "output_type": "stream",
     "text": [
      "the reduction capacity:  569316.1767673519\n"
     ]
    }
   ],
   "source": [
    "#emission_bylink[pd.isnull(emission_bylink['tour_replacement'])]\n",
    "emission_bylink_bike = emission_bylink[emission_bylink.tour_replacement==True]\n",
    "print('the reduction capacity: ', emission_bylink_bike['link_emission'].sum())"
   ],
   "metadata": {
    "collapsed": false
   }
  },
  {
   "cell_type": "code",
   "execution_count": 6,
   "outputs": [
    {
     "name": "stdout",
     "output_type": "stream",
     "text": [
      "the reduced emission:  1931319.0316369685\n"
     ]
    }
   ],
   "source": [
    "emission_bylink_car = emission_bylink[emission_bylink.tour_replacement==False]\n",
    "print('the reduced emission: ', emission_bylink_car['link_emission'].sum())"
   ],
   "metadata": {
    "collapsed": false
   }
  },
  {
   "cell_type": "code",
   "execution_count": 7,
   "outputs": [
    {
     "data": {
      "text/plain": "2500635.208404324"
     },
     "execution_count": 7,
     "metadata": {},
     "output_type": "execute_result"
    }
   ],
   "source": [
    "emission_bylink['link_emission'].sum()"
   ],
   "metadata": {
    "collapsed": false
   }
  },
  {
   "cell_type": "code",
   "execution_count": 8,
   "outputs": [
    {
     "data": {
      "text/plain": "False    42063216\nTrue     27736811\nName: tour_replacement, dtype: int64"
     },
     "execution_count": 8,
     "metadata": {},
     "output_type": "execute_result"
    }
   ],
   "source": [
    "emission_bylink.tour_replacement.value_counts()"
   ],
   "metadata": {
    "collapsed": false
   }
  },
  {
   "cell_type": "code",
   "execution_count": 9,
   "outputs": [
    {
     "name": "stdout",
     "output_type": "stream",
     "text": [
      "replaced trips total distance: 3655018.4338806206\n",
      "not replaced trips total distance: 12660595.957870563\n",
      "replaced trips total distance ratio: 0.2240196627672513\n"
     ]
    }
   ],
   "source": [
    "print('replaced trips total distance:', emission_bylink['link_distance'][emission_bylink.tour_replacement==True].sum())\n",
    "print('not replaced trips total distance:',emission_bylink['link_distance'][emission_bylink.tour_replacement==False].sum())\n",
    "\n",
    "print('replaced trips total distance ratio:', emission_bylink['link_distance'][emission_bylink.tour_replacement==True].sum()/emission_bylink['link_distance'].sum())\n"
   ],
   "metadata": {
    "collapsed": false
   }
  },
  {
   "cell_type": "code",
   "execution_count": 10,
   "outputs": [],
   "source": [
    "emission_bylink['num_Deso']= emission_bylink['Deso'].str.len()"
   ],
   "metadata": {
    "collapsed": false
   }
  },
  {
   "cell_type": "code",
   "execution_count": 11,
   "outputs": [],
   "source": [
    "emission_bylink['link_emission']= emission_bylink['link_emission'].div(emission_bylink['num_Deso'])"
   ],
   "metadata": {
    "collapsed": false
   }
  },
  {
   "cell_type": "code",
   "execution_count": 12,
   "outputs": [],
   "source": [
    "emission_bylink= emission_bylink.loc[emission_bylink.index.repeat(emission_bylink.num_Deso)]"
   ],
   "metadata": {
    "collapsed": false
   }
  },
  {
   "cell_type": "code",
   "execution_count": 13,
   "outputs": [],
   "source": [
    "emission_bylink['num_Deso']= emission_bylink.groupby(['person','seq']).cumcount()\n"
   ],
   "metadata": {
    "collapsed": false
   }
  },
  {
   "cell_type": "code",
   "execution_count": 14,
   "outputs": [],
   "source": [
    "def link_todeso(row):\n",
    "    if len(row['Deso']) == 1:\n",
    "        Deso = row['Deso'][0]\n",
    "    else:\n",
    "        Deso = row['Deso'][row['num_Deso']]\n",
    "    return Deso"
   ],
   "metadata": {
    "collapsed": false
   }
  },
  {
   "cell_type": "code",
   "execution_count": 15,
   "outputs": [],
   "source": [
    "emission_bylink['Deso'] = emission_bylink.apply( lambda row: link_todeso(row), axis=1)"
   ],
   "metadata": {
    "collapsed": false
   }
  },
  {
   "cell_type": "code",
   "execution_count": 16,
   "outputs": [],
   "source": [
    "emission_bydeso = emission_bylink.groupby(['Deso'])['link_emission'].sum().reset_index()"
   ],
   "metadata": {
    "collapsed": false
   }
  },
  {
   "cell_type": "markdown",
   "source": [
    "### Visualization"
   ],
   "metadata": {
    "collapsed": false
   }
  },
  {
   "cell_type": "code",
   "execution_count": 17,
   "outputs": [],
   "source": [
    "import geopandas as gpd\n",
    "\n",
    "\n",
    "\n",
    "DeSO = gpd.read_file(f'./dbs/emission/deso_statistik_shp/Fordon_region.shp')\n",
    "DeSO = DeSO[['Deso','geometry']]"
   ],
   "metadata": {
    "collapsed": false
   }
  },
  {
   "cell_type": "code",
   "execution_count": 18,
   "outputs": [],
   "source": [
    "gdf=DeSO.merge(emission_bydeso,on=\"Deso\")\n",
    "gdf= gdf[gdf['Deso'].str[:2]=='14']\n"
   ],
   "metadata": {
    "collapsed": false
   }
  },
  {
   "cell_type": "code",
   "execution_count": 19,
   "outputs": [
    {
     "name": "stdout",
     "output_type": "stream",
     "text": [
      "the total emission within VG:  2175412.652603938\n"
     ]
    }
   ],
   "source": [
    "print('the total emission within VG: ', gdf.link_emission.sum())\n"
   ],
   "metadata": {
    "collapsed": false
   }
  },
  {
   "cell_type": "code",
   "execution_count": 21,
   "outputs": [],
   "source": [
    "import matplotlib.pyplot as plt\n",
    "from mpl_toolkits.axes_grid1 import make_axes_locatable\n",
    "\n",
    "\n",
    "fig, ax = plt.subplots(1, 1, figsize=(12, 12), dpi=250)\n",
    "\n",
    "divider = make_axes_locatable(ax)\n",
    "cax = divider.append_axes(\"bottom\", size=\"5%\", pad=0.1)\n",
    "\n",
    "gdf.plot(column='link_emission',\n",
    "         ax=ax,\n",
    "         cmap='viridis',\n",
    "         legend=True,\n",
    "         cax=cax,\n",
    "         legend_kwds={'label': \"Greenhouse gas emissions from passenger cars by the driven DeSO zones (in kg CO2 eq.)\", 'orientation': \"horizontal\"})\n",
    "\n",
    "#cax.tick_params(labelsize='12')\n",
    "\n",
    "#plt.show()\n",
    "plt.savefig(r'.\\figures\\p-emission_abs.jpg')"
   ],
   "metadata": {
    "collapsed": false
   }
  },
  {
   "cell_type": "code",
   "execution_count": 22,
   "outputs": [],
   "source": [
    "emission_bylink_reduction = emission_bylink[emission_bylink.tour_replacement==True]\n",
    "emission_bylink_reduction = emission_bylink_reduction.groupby(['Deso'])['link_emission'].sum().reset_index()\n",
    "\n"
   ],
   "metadata": {
    "collapsed": false
   }
  },
  {
   "cell_type": "code",
   "execution_count": 23,
   "outputs": [
    {
     "name": "stdout",
     "output_type": "stream",
     "text": [
      "the reduction in emission within VG:  556184.589955094\n"
     ]
    }
   ],
   "source": [
    "gdf_reduction = DeSO.merge(emission_bylink_reduction, on=\"Deso\")\n",
    "gdf_reduction = gdf_reduction[gdf_reduction['Deso'].str[:2] == '14']\n",
    "\n",
    "\n",
    "print('the reduction in emission within VG: ', gdf_reduction.link_emission.sum())\n"
   ],
   "metadata": {
    "collapsed": false
   }
  },
  {
   "cell_type": "code",
   "execution_count": 24,
   "outputs": [],
   "source": [
    "\n",
    "\n",
    "\n",
    "fig, ax = plt.subplots(1, 1, figsize=(12, 12), dpi=250)\n",
    "\n",
    "divider = make_axes_locatable(ax)\n",
    "cax = divider.append_axes(\"bottom\", size=\"5%\", pad=0.1)\n",
    "\n",
    "gdf_reduction.plot(column='link_emission',\n",
    "         ax=ax,\n",
    "         cmap='viridis',\n",
    "         legend=True,\n",
    "         cax=cax,\n",
    "         legend_kwds={'label': \"Reduction in greenhouse gas emissions from passenger cars by the driven DeSO zones (in kg CO2 eq.)\", 'orientation': \"horizontal\"})\n",
    "\n",
    "#plt.show()\n",
    "plt.savefig(r'.\\figures\\p-emission_reduction_abs.jpg')\n"
   ],
   "metadata": {
    "collapsed": false
   }
  },
  {
   "cell_type": "code",
   "execution_count": 25,
   "outputs": [],
   "source": [
    "gdf_percentage_reduction = gdf.merge(gdf_reduction[['Deso','link_emission']], on=\"Deso\")\n",
    "gdf_percentage_reduction['percentage'] = (gdf_percentage_reduction['link_emission_y']/gdf_percentage_reduction['link_emission_x'])*100\n",
    "\n",
    "\n",
    "fig, ax = plt.subplots(1, 1, figsize=(10, 10), dpi=250)\n",
    "\n",
    "divider = make_axes_locatable(ax)\n",
    "cax = divider.append_axes(\"bottom\", size=\"5%\", pad=0.1)\n",
    "\n",
    "gdf_percentage_reduction.plot(column='percentage',\n",
    "         ax=ax,\n",
    "         cmap='viridis',\n",
    "         legend=True,\n",
    "         cax=cax,\n",
    "         legend_kwds={'label': \"Reduction in greenhouse gas emissions from passenger cars by the driven DeSO zones (in %)\", 'orientation': \"horizontal\"})\n",
    "\n",
    "#plt.show()\n",
    "plt.savefig(r'.\\figures\\p-emission_reduction_per.jpg')\n",
    "\n"
   ],
   "metadata": {
    "collapsed": false
   }
  },
  {
   "cell_type": "code",
   "execution_count": 26,
   "outputs": [],
   "source": [
    "emission_byperson = emission_bylink.groupby(['person'])['link_emission'].sum().reset_index()\n",
    "\n",
    "\n",
    "emission_byperson_reduction = emission_bylink[emission_bylink.tour_replacement==True]\n",
    "emission_byperson_reduction = emission_byperson_reduction.groupby(['person'])['link_emission'].sum().reset_index()\n"
   ],
   "metadata": {
    "collapsed": false
   }
  },
  {
   "cell_type": "code",
   "execution_count": 27,
   "outputs": [],
   "source": [
    "df_act = pd.read_csv(f'./dbs/agents/1_activity_plans.csv')\n",
    "df_act = df_act[df_act.act_purpose=='home']\n",
    "df_act.drop_duplicates(subset=['person'], inplace=True)\n"
   ],
   "metadata": {
    "collapsed": false
   }
  },
  {
   "cell_type": "code",
   "execution_count": 28,
   "outputs": [],
   "source": [
    "emission_byperson = pd.merge(emission_byperson, df_act[['person','deso']], on='person', how=\"left\")\n",
    "\n",
    "emission_byperson_reduction = pd.merge(emission_byperson_reduction, df_act[['person','deso']], on='person', how=\"left\")"
   ],
   "metadata": {
    "collapsed": false
   }
  },
  {
   "cell_type": "code",
   "execution_count": 29,
   "outputs": [],
   "source": [
    "emission_byresidentialzone = emission_byperson.groupby(['deso'])['link_emission'].sum().reset_index()\n",
    "\n",
    "emission_byresidentialzone_reduction = emission_byperson_reduction.groupby(['deso'])['link_emission'].sum().reset_index()"
   ],
   "metadata": {
    "collapsed": false
   }
  },
  {
   "cell_type": "code",
   "execution_count": 30,
   "outputs": [],
   "source": [
    "gdf_residentialzone = gdf[['Deso','geometry']].merge(emission_byresidentialzone[['deso','link_emission']], left_on=\"Deso\", right_on=\"deso\")\n",
    "gdf_residentialzone = gdf_residentialzone.merge(emission_byresidentialzone_reduction[['deso','link_emission']], left_on=\"Deso\", right_on=\"deso\")\n"
   ],
   "metadata": {
    "collapsed": false
   }
  },
  {
   "cell_type": "code",
   "execution_count": 31,
   "outputs": [],
   "source": [
    "\n",
    "gdf_residentialzone['percentage'] = (gdf_residentialzone['link_emission_y']/gdf_residentialzone['link_emission_x'])*100\n",
    "\n",
    "\n",
    "fig, ax = plt.subplots(1, 1, figsize=(10, 10), dpi=250)\n",
    "\n",
    "divider = make_axes_locatable(ax)\n",
    "cax = divider.append_axes(\"bottom\", size=\"5%\", pad=0.1)\n",
    "ax.set_axis_off()\n",
    "x, y, arrow_length = 0.9, 0.2, 0.1\n",
    "ax.annotate('N', xy=(x, y), xytext=(x, y-arrow_length),\n",
    "            arrowprops=dict(facecolor='black', width=5, headwidth=15),\n",
    "            ha='center', va='center', fontsize=20,\n",
    "            xycoords=ax.transAxes)\n",
    "\n",
    "\n",
    "\n",
    "gdf_residentialzone.plot(column='percentage',\n",
    "         ax=ax,\n",
    "         cmap='viridis',\n",
    "         legend=True,\n",
    "         cax=cax,\n",
    "         legend_kwds={'label': \"Reduction in greenhouse gas emissions from passenger cars by the agents' residential DeSO zones (in %)\", 'orientation': \"horizontal\"})\n",
    "\n",
    "#plt.show()\n",
    "plt.savefig(r'.\\figures\\p-emission_reduction_per_residential.jpg')\n",
    "\n"
   ],
   "metadata": {
    "collapsed": false
   }
  },
  {
   "cell_type": "markdown",
   "source": [
    "# bar chart by population density"
   ],
   "metadata": {
    "collapsed": false
   }
  },
  {
   "cell_type": "code",
   "execution_count": 32,
   "outputs": [],
   "source": [
    "DeSO_age = gpd.read_file(f'./dbs/emission/deso_statistik_shp/Bef_Alder_region.shp')\n",
    "\n",
    "Muni_names = pd.read_csv(f'./dbs/emission/deso_statistik_shp/muni-name.csv', delimiter=\";\", dtype= {\"KNKOD\":str, 'LANDAREAKM':float})\n",
    "\n",
    "\n",
    "\n",
    "\n",
    "DeSO_age= DeSO_age[DeSO_age['Deso'].str[:2]=='14']\n",
    "\n",
    "DeSO_age['municipality'] = DeSO_age['Deso'].str[:4]\n",
    "\n",
    "DeSO_age = DeSO_age.groupby(['municipality'])['Totalt', 'area_sw'].sum().reset_index()\n",
    "\n",
    "DeSO_age[ 'area_sw'] = DeSO_age[ 'area_sw']/ 10**6\n",
    "\n",
    "\n",
    "DeSO_age = pd.merge(DeSO_age, Muni_names, left_on='municipality' , right_on='KNKOD')\n",
    "\n",
    "\n",
    "DeSO_age['LANDAREAKM'] = np.where(DeSO_age['LANDAREAKM'] == 0.00000 , DeSO_age['area_sw'], DeSO_age['LANDAREAKM'])\n",
    "\n",
    "DeSO_age['pop_density'] =DeSO_age['Totalt']/ DeSO_age['LANDAREAKM']\n"
   ],
   "metadata": {
    "collapsed": false
   }
  },
  {
   "cell_type": "code",
   "execution_count": 33,
   "outputs": [],
   "source": [
    "gdf_residentialzone['municipality'] = gdf_residentialzone['Deso'].str[:4]\n",
    "\n",
    "gdf_residentialmuni = gdf_residentialzone.groupby(['municipality'])['link_emission_x','link_emission_y'].sum().reset_index()\n",
    "\n",
    "gdf_residentialmuni['percentage'] = (gdf_residentialmuni['link_emission_y']/gdf_residentialmuni['link_emission_x'])*100\n",
    "\n",
    "gdf_residentialmuni['remaining_percentage'] = 100 -gdf_residentialmuni['percentage']\n",
    "\n",
    "\n",
    "DeSO_age = pd.merge(DeSO_age, gdf_residentialmuni, left_on='municipality' , right_on='municipality')\n",
    "\n"
   ],
   "metadata": {
    "collapsed": false
   }
  },
  {
   "cell_type": "code",
   "execution_count": 34,
   "outputs": [],
   "source": [
    "#https://matplotlib.org/stable/gallery/subplots_axes_and_figures/two_scales.html\n",
    "\n",
    "import matplotlib.pyplot as plt\n",
    "\n",
    "# Data\n",
    "groups = DeSO_age['short_name'].tolist()\n",
    "values2 =DeSO_age['percentage']\n",
    "values1 =DeSO_age['remaining_percentage']\n",
    "values3 =DeSO_age['pop_density']\n",
    "\n",
    "#\n",
    "fig, ax = plt.subplots(figsize=(16,8))\n",
    "#\n",
    "# # Stacked bar chart\n",
    "ax.bar(groups, values1, label = \"Remaining emissions\")\n",
    "ax.bar(groups, values2, bottom = values1, label = \"Reduction in emissions\")\n",
    "\n",
    "ax1 = ax.twinx()  # instantiate a second axes that shares the same x-axis\n",
    "\n",
    "ax1.plot(groups, values3, color='r', marker='o', label='Population / Area')\n",
    "ax1.set_ylabel('Number of ppl / Area (km2)', size = 12, color='r')\n",
    "ax1.tick_params(axis='y', labelcolor='r')\n",
    "ax1.legend(loc=\"lower left\",fontsize=12)\n",
    "\n",
    "\n",
    "\n",
    "\n",
    "ax.legend(loc=\"upper right\",fontsize=12)\n",
    "ax.set_ylabel('Share (%)', size = 12)\n",
    "\n",
    "ax.set_xlabel('Municipalities', size = 15)\n",
    "ax.tick_params(axis='x', labelrotation=90)\n",
    "\n",
    "\n",
    "\n",
    "\n",
    "plt.savefig(r'.\\figures\\reduction_barchart_byMuni.jpg')"
   ],
   "metadata": {
    "collapsed": false
   }
  },
  {
   "cell_type": "code",
   "execution_count": 35,
   "outputs": [],
   "source": [
    "\n",
    "DeSO_age.sort_values(by='pop_density', ascending=False, inplace=True)\n",
    "\n",
    "\n",
    "# Data\n",
    "groups = DeSO_age['short_name'].tolist()\n",
    "values2 =DeSO_age['percentage']\n",
    "\n",
    "\n",
    "\n",
    "# Figure Size\n",
    "fig, ax = plt.subplots(figsize =(18, 14))\n",
    "\n",
    "\n",
    "ax.bar(groups, values2,  width = 0.5)\n",
    "\n",
    "\n",
    "#ax.grid(zorder=0)\n",
    "\n",
    "\n",
    "# Add padding between axes and labels\n",
    "ax.xaxis.set_tick_params(pad = 1, labelrotation=90, labelsize=15)\n",
    "ax.yaxis.set_tick_params(pad = 10, labelsize=16)\n",
    "#ax.set_yticks(np.range(0, 80, step=10), size = 12)\n",
    "ax.set_ylabel('Share (%)', size = 18)\n",
    "\n",
    "plt.yticks(range(0, 70, 10))\n",
    "\n",
    "\n",
    "# Show Plot\n",
    "plt.savefig(r'.\\figures\\reduction_barchart_byMuni_ordered.jpg')\n"
   ],
   "metadata": {
    "collapsed": false
   }
  },
  {
   "cell_type": "code",
   "execution_count": 36,
   "outputs": [],
   "source": [
    "\n",
    "DeSO_age.sort_values(by='pop_density', ascending=True, inplace=True)\n",
    "\n",
    "\n",
    "# Data\n",
    "groups = DeSO_age['short_name'].tolist()\n",
    "values2 =DeSO_age['percentage']\n",
    "\n",
    "\n",
    "\n",
    "# Figure Size\n",
    "fig, ax = plt.subplots(figsize =(15, 18))\n",
    "\n",
    "\n",
    "ax.barh(groups, values2)\n",
    "\n",
    "\n",
    "#ax.grid(zorder=0)\n",
    "\n",
    "\n",
    "# Add padding between axes and labels\n",
    "ax.yaxis.set_tick_params(pad = 1, labelrotation=0, labelsize=18)\n",
    "ax.xaxis.set_tick_params(pad = 10, labelsize=18)\n",
    "#ax.set_yticks(np.range(0, 80, step=10), size = 12)\n",
    "ax.set_xlabel('Share (%)', size = 20)\n",
    "\n",
    "\n",
    "plt.xticks(range(0, 60, 10))\n",
    "\n",
    "\n",
    "# Show Plot\n",
    "plt.savefig(r'.\\figures\\reduction_barchart_byMuni_orderedh.jpg')\n"
   ],
   "metadata": {
    "collapsed": false
   }
  },
  {
   "cell_type": "code",
   "execution_count": null,
   "outputs": [],
   "source": [],
   "metadata": {
    "collapsed": false,
    "pycharm": {
     "is_executing": true
    }
   }
  },
  {
   "cell_type": "code",
   "execution_count": null,
   "outputs": [],
   "source": [],
   "metadata": {
    "collapsed": false
   }
  }
 ],
 "metadata": {
  "kernelspec": {
   "display_name": "Python 3",
   "language": "python",
   "name": "python3"
  },
  "language_info": {
   "codemirror_mode": {
    "name": "ipython",
    "version": 2
   },
   "file_extension": ".py",
   "mimetype": "text/x-python",
   "name": "python",
   "nbconvert_exporter": "python",
   "pygments_lexer": "ipython2",
   "version": "2.7.6"
  }
 },
 "nbformat": 4,
 "nbformat_minor": 0
}
