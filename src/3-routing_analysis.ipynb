{
 "cells": [
  {
   "cell_type": "code",
   "execution_count": 111,
   "metadata": {
    "collapsed": true
   },
   "outputs": [
    {
     "name": "stdout",
     "output_type": "stream",
     "text": [
      "C:\\emobility\n"
     ]
    }
   ],
   "source": [
    "import pandas as pd\n",
    "import json\n",
    "import os, sys\n",
    "import folium\n",
    "import random\n",
    "from pprint import pprint\n",
    "\n",
    "%cd C:\\emobility"
   ]
  },
  {
   "cell_type": "code",
   "execution_count": 125,
   "outputs": [
    {
     "data": {
      "text/plain": "['vg_1000_origin_1049.json',\n 'vg_1000_origin_1294.json',\n 'vg_1000_origin_1485.json',\n 'vg_1000_origin_178.json',\n 'vg_1000_origin_498.json',\n 'vg_1000_origin_676.json',\n 'vg_1000_origin_797.json',\n 'vg_1000_origin_805.json',\n 'vg_1000_origin_811.json',\n 'vg_1000_origin_940.json']"
     },
     "execution_count": 125,
     "metadata": {},
     "output_type": "execute_result"
    }
   ],
   "source": [
    "output_folder = f'example/output_1000/'\n",
    "files = os.listdir(output_folder)\n",
    "files"
   ],
   "metadata": {
    "collapsed": false
   }
  },
  {
   "cell_type": "code",
   "execution_count": 123,
   "outputs": [],
   "source": [
    "filepath = 'example/output_1000/'\n",
    "\n",
    "speed_list = []\n",
    "\n",
    "for file in os.listdir(filepath):\n",
    "    if file.endswith(\".json\"): # & (\"w2h\" not in file) / & (\"w2h\" in file)\n",
    "        fname = os.path.join(filepath, file)\n",
    "        for line in open(fname):\n",
    "            record = json.loads(line)\n",
    "            #pprint(record)\n",
    "            #break\n",
    "            speed_list.append((record['legs'][0]['distance']/record['legs'][0]['duration'])*3.6)\n",
    "    #break"
   ],
   "metadata": {
    "collapsed": false
   }
  },
  {
   "cell_type": "code",
   "execution_count": 124,
   "outputs": [
    {
     "data": {
      "text/plain": "(13.191587234042553, 19.76581310043668, 16.89840059450972)"
     },
     "execution_count": 124,
     "metadata": {},
     "output_type": "execute_result"
    }
   ],
   "source": [
    "min(speed_list), max(speed_list), sum(speed_list)/len(speed_list)\n"
   ],
   "metadata": {
    "collapsed": false
   }
  }
 ],
 "metadata": {
  "kernelspec": {
   "display_name": "Python 3",
   "language": "python",
   "name": "python3"
  },
  "language_info": {
   "codemirror_mode": {
    "name": "ipython",
    "version": 2
   },
   "file_extension": ".py",
   "mimetype": "text/x-python",
   "name": "python",
   "nbconvert_exporter": "python",
   "pygments_lexer": "ipython2",
   "version": "2.7.6"
  }
 },
 "nbformat": 4,
 "nbformat_minor": 0
}
