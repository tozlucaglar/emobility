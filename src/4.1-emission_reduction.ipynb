{
 "cells": [
  {
   "cell_type": "code",
   "execution_count": 2,
   "metadata": {
    "collapsed": true
   },
   "outputs": [
    {
     "name": "stdout",
     "output_type": "stream",
     "text": [
      "C:\\emobility\n"
     ]
    }
   ],
   "source": [
    "import numpy as np\n",
    "import pandas as pd\n",
    "import os, sys\n",
    "import warnings\n",
    "from tqdm import tqdm\n",
    "\n",
    "warnings.filterwarnings('ignore')\n",
    "\n",
    "\n",
    "%cd C:\\emobility"
   ]
  },
  {
   "cell_type": "code",
   "execution_count": 3,
   "outputs": [],
   "source": [
    "replacement_bybike = pd.read_pickle(f\"./dbs/output/replacement_bybike.pkl\")\n",
    "emission_bylink = pd.read_pickle(f\"./dbs/output/emission_bylink.pkl\")\n"
   ],
   "metadata": {
    "collapsed": false
   }
  },
  {
   "cell_type": "code",
   "execution_count": 4,
   "outputs": [],
   "source": [
    "\n",
    "replacement_bybike['changed_act_id'] = replacement_bybike.groupby('person').cumcount()\n"
   ],
   "metadata": {
    "collapsed": false
   }
  },
  {
   "cell_type": "code",
   "execution_count": 5,
   "outputs": [],
   "source": [
    "emission_bylink = pd.merge(emission_bylink, replacement_bybike[[\"person\",'changed_act_id','tour_replacement']], left_on= [\"person\",'act_id'], right_on= [\"person\",'changed_act_id'], how=\"left\")"
   ],
   "metadata": {
    "collapsed": false
   }
  },
  {
   "cell_type": "code",
   "execution_count": 93,
   "outputs": [
    {
     "name": "stdout",
     "output_type": "stream",
     "text": [
      "the reduction capacity:  607131.1219322365\n"
     ]
    }
   ],
   "source": [
    "#emission_bylink[pd.isnull(emission_bylink['tour_replacement'])]\n",
    "emission_bylink_bike = emission_bylink[emission_bylink.tour_replacement==True]\n",
    "print('the reduction capacity: ', emission_bylink_bike['link_emission'].sum())"
   ],
   "metadata": {
    "collapsed": false
   }
  },
  {
   "cell_type": "code",
   "execution_count": 94,
   "outputs": [
    {
     "name": "stdout",
     "output_type": "stream",
     "text": [
      "the reduced emission:  1904626.2304087048\n"
     ]
    }
   ],
   "source": [
    "emission_bylink_car = emission_bylink[emission_bylink.tour_replacement==False]\n",
    "print('the reduced emission: ', emission_bylink_car['link_emission'].sum())"
   ],
   "metadata": {
    "collapsed": false
   }
  },
  {
   "cell_type": "code",
   "execution_count": 109,
   "outputs": [
    {
     "data": {
      "text/plain": "2511757.352340963"
     },
     "execution_count": 109,
     "metadata": {},
     "output_type": "execute_result"
    }
   ],
   "source": [
    "emission_bylink['link_emission'].sum()"
   ],
   "metadata": {
    "collapsed": false
   }
  },
  {
   "cell_type": "code",
   "execution_count": 16,
   "outputs": [
    {
     "data": {
      "text/plain": "False    41052758\nTrue     27586844\nName: tour_replacement, dtype: int64"
     },
     "execution_count": 16,
     "metadata": {},
     "output_type": "execute_result"
    }
   ],
   "source": [
    "emission_bylink.tour_replacement.value_counts()"
   ],
   "metadata": {
    "collapsed": false
   }
  },
  {
   "cell_type": "code",
   "execution_count": 28,
   "outputs": [],
   "source": [
    "emission_bylink['link_emission']= emission_bylink['link_emission'].div(emission_bylink['num_Deso'])"
   ],
   "metadata": {
    "collapsed": false
   }
  },
  {
   "cell_type": "code",
   "execution_count": 29,
   "outputs": [],
   "source": [
    "emission_bylink= emission_bylink.loc[emission_bylink.index.repeat(emission_bylink.num_Deso)]"
   ],
   "metadata": {
    "collapsed": false
   }
  },
  {
   "cell_type": "code",
   "execution_count": 30,
   "outputs": [],
   "source": [
    "emission_bylink['num_Deso']= emission_bylink.groupby(['person','seq']).cumcount()"
   ],
   "metadata": {
    "collapsed": false
   }
  },
  {
   "cell_type": "code",
   "execution_count": 25,
   "outputs": [],
   "source": [
    "def link_todeso(row):\n",
    "    if len(row['Deso']) == 1:\n",
    "        Deso = row['Deso'][0]\n",
    "    else:\n",
    "        Deso = row['Deso'][row['num_Deso']]\n",
    "    return Deso"
   ],
   "metadata": {
    "collapsed": false
   }
  },
  {
   "cell_type": "code",
   "execution_count": 31,
   "outputs": [],
   "source": [
    "emission_bylink['Deso'] = emission_bylink.apply( lambda row: link_todeso(row), axis=1)"
   ],
   "metadata": {
    "collapsed": false
   }
  },
  {
   "cell_type": "code",
   "execution_count": 32,
   "outputs": [],
   "source": [
    "emission_bydeso = emission_bylink.groupby(['Deso'])['link_emission'].sum().reset_index()"
   ],
   "metadata": {
    "collapsed": false
   }
  },
  {
   "cell_type": "markdown",
   "source": [
    "### Visualization"
   ],
   "metadata": {
    "collapsed": false
   }
  },
  {
   "cell_type": "code",
   "execution_count": 127,
   "outputs": [],
   "source": [
    "import geopandas as gpd\n",
    "\n",
    "\n",
    "\n",
    "DeSO = gpd.read_file(f'./dbs/emission/deso_statistik_shp/Fordon_region.shp')\n",
    "DeSO = DeSO[['Deso','geometry']]"
   ],
   "metadata": {
    "collapsed": false
   }
  },
  {
   "cell_type": "code",
   "execution_count": 128,
   "outputs": [],
   "source": [
    "gdf=DeSO.merge(emission_bydeso,on=\"Deso\")\n",
    "gdf= gdf[gdf['Deso'].str[:2]=='14']\n"
   ],
   "metadata": {
    "collapsed": false
   }
  },
  {
   "cell_type": "code",
   "execution_count": 131,
   "outputs": [
    {
     "name": "stdout",
     "output_type": "stream",
     "text": [
      "the total emission within VG:  2182322.053552644\n"
     ]
    }
   ],
   "source": [
    "print('the total emission within VG: ', gdf.link_emission.sum())\n"
   ],
   "metadata": {
    "collapsed": false
   }
  },
  {
   "cell_type": "code",
   "execution_count": 132,
   "outputs": [],
   "source": [
    "import matplotlib.pyplot as plt\n",
    "from mpl_toolkits.axes_grid1 import make_axes_locatable\n",
    "\n",
    "\n",
    "fig, ax = plt.subplots(1, 1, figsize=(12, 12), dpi=250)\n",
    "\n",
    "divider = make_axes_locatable(ax)\n",
    "cax = divider.append_axes(\"bottom\", size=\"5%\", pad=0.1)\n",
    "\n",
    "gdf.plot(column='link_emission',\n",
    "         ax=ax,\n",
    "         cmap='viridis',\n",
    "         legend=True,\n",
    "         cax=cax,\n",
    "         legend_kwds={'label': \"Greenhouse gas emissions from passenger cars by the driven DeSO zones (in kg CO2 eq.)\", 'orientation': \"horizontal\"})\n",
    "\n",
    "#cax.tick_params(labelsize='12')\n",
    "\n",
    "#plt.show()\n",
    "plt.savefig(r'.\\figures\\emission_abs.jpg')"
   ],
   "metadata": {
    "collapsed": false
   }
  },
  {
   "cell_type": "code",
   "execution_count": 98,
   "outputs": [],
   "source": [
    "emission_bylink_reduction = emission_bylink[emission_bylink.tour_replacement==True]\n",
    "emission_bylink_reduction = emission_bylink_reduction.groupby(['Deso'])['link_emission'].sum().reset_index()\n",
    "\n"
   ],
   "metadata": {
    "collapsed": false
   }
  },
  {
   "cell_type": "code",
   "execution_count": 99,
   "outputs": [],
   "source": [
    "gdf_reduction = DeSO.merge(emission_bylink_reduction, on=\"Deso\")\n",
    "gdf_reduction = gdf_reduction[gdf_reduction['Deso'].str[:2] == '14']\n",
    "\n",
    "\n",
    "fig, ax = plt.subplots(1, 1, figsize=(12, 12), dpi=250)\n",
    "\n",
    "divider = make_axes_locatable(ax)\n",
    "cax = divider.append_axes(\"bottom\", size=\"5%\", pad=0.1)\n",
    "\n",
    "gdf_reduction.plot(column='link_emission',\n",
    "         ax=ax,\n",
    "         cmap='viridis',\n",
    "         legend=True,\n",
    "         cax=cax,\n",
    "         legend_kwds={'label': \"Reduction in greenhouse gas emissions from passenger cars by the driven DeSO zones (in kg CO2 eq.)\", 'orientation': \"horizontal\"})\n",
    "\n",
    "#plt.show()\n",
    "plt.savefig(r'.\\figures\\emission_reduction_abs.jpg')\n"
   ],
   "metadata": {
    "collapsed": false
   }
  },
  {
   "cell_type": "code",
   "execution_count": 100,
   "outputs": [],
   "source": [
    "gdf_percentage_reduction = gdf.merge(gdf_reduction[['Deso','link_emission']], on=\"Deso\")\n",
    "gdf_percentage_reduction['percentage'] = (gdf_percentage_reduction['link_emission_y']/gdf_percentage_reduction['link_emission_x'])*100\n",
    "\n",
    "\n",
    "fig, ax = plt.subplots(1, 1, figsize=(12, 12), dpi=250)\n",
    "\n",
    "divider = make_axes_locatable(ax)\n",
    "cax = divider.append_axes(\"bottom\", size=\"5%\", pad=0.1)\n",
    "\n",
    "gdf_percentage_reduction.plot(column='percentage',\n",
    "         ax=ax,\n",
    "         cmap='viridis',\n",
    "         legend=True,\n",
    "         cax=cax,\n",
    "         legend_kwds={'label': \"Reduction in greenhouse gas emissions from passenger cars by the driven DeSO zones (in %)\", 'orientation': \"horizontal\"})\n",
    "\n",
    "#plt.show()\n",
    "plt.savefig(r'.\\figures\\emission_reduction_per.jpg')\n",
    "\n"
   ],
   "metadata": {
    "collapsed": false
   }
  },
  {
   "cell_type": "code",
   "execution_count": 101,
   "outputs": [],
   "source": [
    "emission_byperson = emission_bylink.groupby(['person'])['link_emission'].sum().reset_index()\n",
    "\n",
    "\n",
    "emission_byperson_reduction = emission_bylink[emission_bylink.tour_replacement==True]\n",
    "emission_byperson_reduction = emission_byperson_reduction.groupby(['person'])['link_emission'].sum().reset_index()\n"
   ],
   "metadata": {
    "collapsed": false
   }
  },
  {
   "cell_type": "code",
   "execution_count": 102,
   "outputs": [],
   "source": [
    "df_act = pd.read_csv(f'./dbs/agents/1_activity_plans.csv')\n",
    "df_act = df_act[df_act.act_purpose=='home']\n",
    "df_act.drop_duplicates(subset=['person'], inplace=True)\n"
   ],
   "metadata": {
    "collapsed": false
   }
  },
  {
   "cell_type": "code",
   "execution_count": 103,
   "outputs": [],
   "source": [
    "emission_byperson = pd.merge(emission_byperson, df_act[['person','deso']], on='person', how=\"left\")\n",
    "\n",
    "emission_byperson_reduction = pd.merge(emission_byperson_reduction, df_act[['person','deso']], on='person', how=\"left\")"
   ],
   "metadata": {
    "collapsed": false
   }
  },
  {
   "cell_type": "code",
   "execution_count": 104,
   "outputs": [],
   "source": [
    "emission_byresidentialzone = emission_byperson.groupby(['deso'])['link_emission'].sum().reset_index()\n",
    "\n",
    "emission_byresidentialzone_reduction = emission_byperson_reduction.groupby(['deso'])['link_emission'].sum().reset_index()"
   ],
   "metadata": {
    "collapsed": false
   }
  },
  {
   "cell_type": "code",
   "execution_count": 105,
   "outputs": [],
   "source": [
    "gdf_residentialzone = gdf[['Deso','geometry']].merge(emission_byresidentialzone[['deso','link_emission']], left_on=\"Deso\", right_on=\"deso\")\n",
    "gdf_residentialzone = gdf_residentialzone.merge(emission_byresidentialzone_reduction[['deso','link_emission']], left_on=\"Deso\", right_on=\"deso\")\n"
   ],
   "metadata": {
    "collapsed": false
   }
  },
  {
   "cell_type": "code",
   "execution_count": 106,
   "outputs": [],
   "source": [
    "\n",
    "gdf_residentialzone['percentage'] = (gdf_residentialzone['link_emission_y']/gdf_residentialzone['link_emission_x'])*100\n",
    "\n",
    "\n",
    "fig, ax = plt.subplots(1, 1, figsize=(12, 12), dpi=250)\n",
    "\n",
    "divider = make_axes_locatable(ax)\n",
    "cax = divider.append_axes(\"bottom\", size=\"5%\", pad=0.1)\n",
    "\n",
    "gdf_residentialzone.plot(column='percentage',\n",
    "         ax=ax,\n",
    "         cmap='viridis',\n",
    "         legend=True,\n",
    "         cax=cax,\n",
    "         legend_kwds={'label': \"Reduction in greenhouse gas emissions from passenger cars by the agents' residential DeSO zones (in %)\", 'orientation': \"horizontal\"})\n",
    "\n",
    "#plt.show()\n",
    "plt.savefig(r'.\\figures\\emission_reduction_per_residential.jpg')\n",
    "\n"
   ],
   "metadata": {
    "collapsed": false
   }
  },
  {
   "cell_type": "code",
   "execution_count": 106,
   "outputs": [],
   "source": [],
   "metadata": {
    "collapsed": false
   }
  }
 ],
 "metadata": {
  "kernelspec": {
   "display_name": "Python 3",
   "language": "python",
   "name": "python3"
  },
  "language_info": {
   "codemirror_mode": {
    "name": "ipython",
    "version": 2
   },
   "file_extension": ".py",
   "mimetype": "text/x-python",
   "name": "python",
   "nbconvert_exporter": "python",
   "pygments_lexer": "ipython2",
   "version": "2.7.6"
  }
 },
 "nbformat": 4,
 "nbformat_minor": 0
}
